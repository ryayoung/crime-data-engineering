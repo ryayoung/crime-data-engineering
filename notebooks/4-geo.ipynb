{
 "cells": [
  {
   "cell_type": "code",
   "execution_count": 51,
   "metadata": {},
   "outputs": [],
   "source": [
    "import pandas as pd, numpy as np\n",
    "import geopandas as gp\n",
    "from geopy.geocoders import GoogleV3\n",
    "from shapely import wkt\n",
    "# from shapely.geometry import Polygon, Point\n",
    "from geo_df import GeoDF\n",
    "\n",
    "district_boundaries = pd.read_csv('../input-data/school_district_boundaries__esrk-9vjd.csv')\n",
    "county_boundaries = pd.read_csv('../input-data/county_boundaries__67vn-ijga.csv')\n",
    "dist_grad_rate = pd.read_csv('../working-data/dist_grad_rate.csv')"
   ]
  },
  {
   "cell_type": "code",
   "execution_count": 52,
   "metadata": {},
   "outputs": [],
   "source": [
    "def head(dfs):\n",
    "    if type(dfs) != list:\n",
    "        dfs = [dfs]\n",
    "    for df in dfs:\n",
    "        print(f'{df.shape[1]} cols x {df.shape[0]} rows')\n",
    "        display(df.head(3))"
   ]
  },
  {
   "cell_type": "markdown",
   "metadata": {},
   "source": [
    "`North Park R-1 School District` in old school dataset is now `North Park School District R-1`"
   ]
  },
  {
   "cell_type": "code",
   "execution_count": 53,
   "metadata": {},
   "outputs": [
    {
     "name": "stdout",
     "output_type": "stream",
     "text": [
      "COLS:  2\n",
      "ROWS:  183\n"
     ]
    },
    {
     "data": {
      "text/html": [
       "<div>\n",
       "<style scoped>\n",
       "    .dataframe tbody tr th:only-of-type {\n",
       "        vertical-align: middle;\n",
       "    }\n",
       "\n",
       "    .dataframe tbody tr th {\n",
       "        vertical-align: top;\n",
       "    }\n",
       "\n",
       "    .dataframe thead th {\n",
       "        text-align: right;\n",
       "    }\n",
       "</style>\n",
       "<table border=\"1\" class=\"dataframe\">\n",
       "  <thead>\n",
       "    <tr style=\"text-align: right;\">\n",
       "      <th></th>\n",
       "      <th>county</th>\n",
       "      <th>dist</th>\n",
       "    </tr>\n",
       "  </thead>\n",
       "  <tbody>\n",
       "    <tr>\n",
       "      <th>1</th>\n",
       "      <td>ADAMS</td>\n",
       "      <td>MAPLETON 1</td>\n",
       "    </tr>\n",
       "    <tr>\n",
       "      <th>2</th>\n",
       "      <td>ADAMS</td>\n",
       "      <td>ADAMS 12 FIVE STAR SCHOOLS</td>\n",
       "    </tr>\n",
       "    <tr>\n",
       "      <th>3</th>\n",
       "      <td>ADAMS</td>\n",
       "      <td>ADAMS COUNTY 14</td>\n",
       "    </tr>\n",
       "  </tbody>\n",
       "</table>\n",
       "</div>"
      ],
      "text/plain": [
       "  county                        dist\n",
       "1  ADAMS                  MAPLETON 1\n",
       "2  ADAMS  ADAMS 12 FIVE STAR SCHOOLS\n",
       "3  ADAMS             ADAMS COUNTY 14"
      ]
     },
     "metadata": {},
     "output_type": "display_data"
    }
   ],
   "source": [
    "school_county = dist_grad_rate[['county', 'school_dist']].rename(columns={'school_dist': 'dist'})\n",
    "school_county = school_county[school_county.county != \"STATE TOTAL\"]\n",
    "head(school_county)"
   ]
  },
  {
   "cell_type": "code",
   "execution_count": 54,
   "metadata": {},
   "outputs": [
    {
     "name": "stdout",
     "output_type": "stream",
     "text": [
      "COLS:  2\n",
      "ROWS:  64\n"
     ]
    },
    {
     "data": {
      "text/html": [
       "<div>\n",
       "<style scoped>\n",
       "    .dataframe tbody tr th:only-of-type {\n",
       "        vertical-align: middle;\n",
       "    }\n",
       "\n",
       "    .dataframe tbody tr th {\n",
       "        vertical-align: top;\n",
       "    }\n",
       "\n",
       "    .dataframe thead th {\n",
       "        text-align: right;\n",
       "    }\n",
       "</style>\n",
       "<table border=\"1\" class=\"dataframe\">\n",
       "  <thead>\n",
       "    <tr style=\"text-align: right;\">\n",
       "      <th></th>\n",
       "      <th>geo_county</th>\n",
       "      <th>county</th>\n",
       "    </tr>\n",
       "  </thead>\n",
       "  <tbody>\n",
       "    <tr>\n",
       "      <th>0</th>\n",
       "      <td>MULTIPOLYGON (((-103.70574149517748 ...</td>\n",
       "      <td>ADAMS</td>\n",
       "    </tr>\n",
       "    <tr>\n",
       "      <th>1</th>\n",
       "      <td>MULTIPOLYGON (((-105.59917426201822 ...</td>\n",
       "      <td>ALAMOSA</td>\n",
       "    </tr>\n",
       "    <tr>\n",
       "      <th>2</th>\n",
       "      <td>MULTIPOLYGON (((-103.70653410023402 ...</td>\n",
       "      <td>ARAPAHOE</td>\n",
       "    </tr>\n",
       "  </tbody>\n",
       "</table>\n",
       "</div>"
      ],
      "text/plain": [
       "                                geo_county    county\n",
       "0  MULTIPOLYGON (((-103.70574149517748 ...     ADAMS\n",
       "1  MULTIPOLYGON (((-105.59917426201822 ...   ALAMOSA\n",
       "2  MULTIPOLYGON (((-103.70653410023402 ...  ARAPAHOE"
      ]
     },
     "metadata": {},
     "output_type": "display_data"
    }
   ],
   "source": [
    "county = county_boundaries[['the_geom', 'COUNTY']].rename(columns={'the_geom':'geo', 'COUNTY': 'county'})\n",
    "county.to_csv('../working-data/geo_county.csv', index=False)\n",
    "county = county.rename(columns={'geo':'geo_county'})\n",
    "head(county)"
   ]
  },
  {
   "cell_type": "code",
   "execution_count": 55,
   "metadata": {},
   "outputs": [
    {
     "name": "stdout",
     "output_type": "stream",
     "text": [
      "COLS:  6\n",
      "ROWS:  178\n"
     ]
    },
    {
     "data": {
      "text/html": [
       "<div>\n",
       "<style scoped>\n",
       "    .dataframe tbody tr th:only-of-type {\n",
       "        vertical-align: middle;\n",
       "    }\n",
       "\n",
       "    .dataframe tbody tr th {\n",
       "        vertical-align: top;\n",
       "    }\n",
       "\n",
       "    .dataframe thead th {\n",
       "        text-align: right;\n",
       "    }\n",
       "</style>\n",
       "<table border=\"1\" class=\"dataframe\">\n",
       "  <thead>\n",
       "    <tr style=\"text-align: right;\">\n",
       "      <th></th>\n",
       "      <th>geo_dist</th>\n",
       "      <th>dist</th>\n",
       "      <th>street</th>\n",
       "      <th>city</th>\n",
       "      <th>state</th>\n",
       "      <th>zip</th>\n",
       "    </tr>\n",
       "  </thead>\n",
       "  <tbody>\n",
       "    <tr>\n",
       "      <th>0</th>\n",
       "      <td>MULTIPOLYGON (((-106.59904239399998 ...</td>\n",
       "      <td>Buena Vista R-31 School District</td>\n",
       "      <td>PO Box 2027</td>\n",
       "      <td>Buena Vista</td>\n",
       "      <td>CO</td>\n",
       "      <td>81211</td>\n",
       "    </tr>\n",
       "    <tr>\n",
       "      <th>1</th>\n",
       "      <td>MULTIPOLYGON (((-102.43672348799998 ...</td>\n",
       "      <td>Burlington RE-6J School District</td>\n",
       "      <td>PO Box 369</td>\n",
       "      <td>Burlington</td>\n",
       "      <td>CO</td>\n",
       "      <td>80807</td>\n",
       "    </tr>\n",
       "    <tr>\n",
       "      <th>2</th>\n",
       "      <td>MULTIPOLYGON (((-104.28505092499995 ...</td>\n",
       "      <td>Byers 32J School District</td>\n",
       "      <td>444 East Front Street</td>\n",
       "      <td>Byers</td>\n",
       "      <td>CO</td>\n",
       "      <td>80103</td>\n",
       "    </tr>\n",
       "  </tbody>\n",
       "</table>\n",
       "</div>"
      ],
      "text/plain": [
       "                                  geo_dist                              dist  \\\n",
       "0  MULTIPOLYGON (((-106.59904239399998 ...  Buena Vista R-31 School District   \n",
       "1  MULTIPOLYGON (((-102.43672348799998 ...  Burlington RE-6J School District   \n",
       "2  MULTIPOLYGON (((-104.28505092499995 ...         Byers 32J School District   \n",
       "\n",
       "                  street         city state    zip  \n",
       "0            PO Box 2027  Buena Vista    CO  81211  \n",
       "1             PO Box 369   Burlington    CO  80807  \n",
       "2  444 East Front Street        Byers    CO  80103  "
      ]
     },
     "metadata": {},
     "output_type": "display_data"
    }
   ],
   "source": [
    "district = district_boundaries[['the_geom', 'abbrev_nam', 'mail_addre', 'mail_city', 'mail_state', 'mail_zip']]\n",
    "district.columns = ['geo_dist', 'dist', 'street', 'city', 'state', 'zip']\n",
    "\n",
    "head(district)"
   ]
  },
  {
   "cell_type": "code",
   "execution_count": 56,
   "metadata": {},
   "outputs": [
    {
     "name": "stdout",
     "output_type": "stream",
     "text": [
      "COLS:  6\n",
      "ROWS:  175\n"
     ]
    },
    {
     "data": {
      "text/html": [
       "<div>\n",
       "<style scoped>\n",
       "    .dataframe tbody tr th:only-of-type {\n",
       "        vertical-align: middle;\n",
       "    }\n",
       "\n",
       "    .dataframe tbody tr th {\n",
       "        vertical-align: top;\n",
       "    }\n",
       "\n",
       "    .dataframe thead th {\n",
       "        text-align: right;\n",
       "    }\n",
       "</style>\n",
       "<table border=\"1\" class=\"dataframe\">\n",
       "  <thead>\n",
       "    <tr style=\"text-align: right;\">\n",
       "      <th></th>\n",
       "      <th>geo_dist</th>\n",
       "      <th>dist</th>\n",
       "      <th>street</th>\n",
       "      <th>city</th>\n",
       "      <th>state</th>\n",
       "      <th>zip</th>\n",
       "    </tr>\n",
       "  </thead>\n",
       "  <tbody>\n",
       "    <tr>\n",
       "      <th>0</th>\n",
       "      <td>MULTIPOLYGON (((-106.59904239399998 ...</td>\n",
       "      <td>BUENA VISTA R-31</td>\n",
       "      <td>PO Box 2027</td>\n",
       "      <td>Buena Vista</td>\n",
       "      <td>CO</td>\n",
       "      <td>81211</td>\n",
       "    </tr>\n",
       "    <tr>\n",
       "      <th>1</th>\n",
       "      <td>MULTIPOLYGON (((-102.43672348799998 ...</td>\n",
       "      <td>BURLINGTON RE-6J</td>\n",
       "      <td>PO Box 369</td>\n",
       "      <td>Burlington</td>\n",
       "      <td>CO</td>\n",
       "      <td>80807</td>\n",
       "    </tr>\n",
       "    <tr>\n",
       "      <th>2</th>\n",
       "      <td>MULTIPOLYGON (((-104.28505092499995 ...</td>\n",
       "      <td>BYERS 32J</td>\n",
       "      <td>444 East Front Street</td>\n",
       "      <td>Byers</td>\n",
       "      <td>CO</td>\n",
       "      <td>80103</td>\n",
       "    </tr>\n",
       "  </tbody>\n",
       "</table>\n",
       "</div>"
      ],
      "text/plain": [
       "                                  geo_dist              dist  \\\n",
       "0  MULTIPOLYGON (((-106.59904239399998 ...  BUENA VISTA R-31   \n",
       "1  MULTIPOLYGON (((-102.43672348799998 ...  BURLINGTON RE-6J   \n",
       "2  MULTIPOLYGON (((-104.28505092499995 ...         BYERS 32J   \n",
       "\n",
       "                  street         city state    zip  \n",
       "0            PO Box 2027  Buena Vista    CO  81211  \n",
       "1             PO Box 369   Burlington    CO  80807  \n",
       "2  444 East Front Street        Byers    CO  80103  "
      ]
     },
     "metadata": {},
     "output_type": "display_data"
    }
   ],
   "source": [
    "df = district.copy()\n",
    "\n",
    "df.dist = df.dist.str.lower()\n",
    "\n",
    "df.dist = df.dist.str.replace(\" school district\", \"\")\n",
    "\n",
    "df = df[ ~ df.dist.isin([ 'consolidated c-1', 'florence re-2', 'gilcrest re-1'])]\n",
    "\n",
    "district_renaming_map = {\n",
    "    'bayfield 10 jt.-r': 'bayfield 10 jt-r',\n",
    "    'buffalo re-4': 'buffalo re-4j',\n",
    "    'creede consolidated 1': 'creede school district',\n",
    "    'dolores county re no. 2': 'dolores county re no.2',\n",
    "    'gunnison re1j': 'gunnison watershed re1j',\n",
    "    'keenesburg re-3j': 'keenesburg re-3(j)',\n",
    "    'mcclave re-2': 'mc clave re-2',\n",
    "    'pueblo city schools': 'pueblo city 60',\n",
    "    'pueblo county rural 70': 'pueblo county 70',\n",
    "    'st. vrain valley re 1j': 'st vrain valley re 1j',\n",
    "    'thompson r-2j': 'thompson r2-j',\n",
    "    'weld county re-8': 'weld county s/d re-8',\n",
    "    'debeque 49jt': 'de beque 49jt',\n",
    "    'lewis palmer 38': 'lewis-palmer 38',\n",
    "    'north park r-1': 'north park r-1 ',\n",
    "}\n",
    "\n",
    "for old, new in district_renaming_map.items():\n",
    "    df.dist = df.dist.str.replace(old, new, regex=False)\n",
    "\n",
    "df.dist = df.dist.str.upper()\n",
    "\n",
    "district = df\n",
    "head(district)"
   ]
  },
  {
   "cell_type": "code",
   "execution_count": 57,
   "metadata": {},
   "outputs": [
    {
     "name": "stdout",
     "output_type": "stream",
     "text": [
      "COLS:  8\n",
      "ROWS:  183\n"
     ]
    },
    {
     "data": {
      "text/html": [
       "<div>\n",
       "<style scoped>\n",
       "    .dataframe tbody tr th:only-of-type {\n",
       "        vertical-align: middle;\n",
       "    }\n",
       "\n",
       "    .dataframe tbody tr th {\n",
       "        vertical-align: top;\n",
       "    }\n",
       "\n",
       "    .dataframe thead th {\n",
       "        text-align: right;\n",
       "    }\n",
       "</style>\n",
       "<table border=\"1\" class=\"dataframe\">\n",
       "  <thead>\n",
       "    <tr style=\"text-align: right;\">\n",
       "      <th></th>\n",
       "      <th>county</th>\n",
       "      <th>dist</th>\n",
       "      <th>geo_dist</th>\n",
       "      <th>street</th>\n",
       "      <th>city</th>\n",
       "      <th>state</th>\n",
       "      <th>zip</th>\n",
       "      <th>geo_county</th>\n",
       "    </tr>\n",
       "  </thead>\n",
       "  <tbody>\n",
       "    <tr>\n",
       "      <th>0</th>\n",
       "      <td>ADAMS</td>\n",
       "      <td>MAPLETON 1</td>\n",
       "      <td>MULTIPOLYGON (((-105.01581612299998 ...</td>\n",
       "      <td>5910 East 80th Avenue</td>\n",
       "      <td>Denver</td>\n",
       "      <td>CO</td>\n",
       "      <td>80229</td>\n",
       "      <td>MULTIPOLYGON (((-103.70574149517748 ...</td>\n",
       "    </tr>\n",
       "    <tr>\n",
       "      <th>1</th>\n",
       "      <td>ADAMS</td>\n",
       "      <td>ADAMS 12 FIVE STAR SCHOOLS</td>\n",
       "      <td>MULTIPOLYGON (((-105.05310614499996 ...</td>\n",
       "      <td>1500 E 128th Avenue</td>\n",
       "      <td>Thornton</td>\n",
       "      <td>CO</td>\n",
       "      <td>80241</td>\n",
       "      <td>MULTIPOLYGON (((-103.70574149517748 ...</td>\n",
       "    </tr>\n",
       "    <tr>\n",
       "      <th>2</th>\n",
       "      <td>ADAMS</td>\n",
       "      <td>ADAMS COUNTY 14</td>\n",
       "      <td>MULTIPOLYGON (((-104.96883410999999 ...</td>\n",
       "      <td>5291 East 60th Avenue</td>\n",
       "      <td>Commerce City</td>\n",
       "      <td>CO</td>\n",
       "      <td>80022</td>\n",
       "      <td>MULTIPOLYGON (((-103.70574149517748 ...</td>\n",
       "    </tr>\n",
       "  </tbody>\n",
       "</table>\n",
       "</div>"
      ],
      "text/plain": [
       "  county                        dist                                 geo_dist  \\\n",
       "0  ADAMS                  MAPLETON 1  MULTIPOLYGON (((-105.01581612299998 ...   \n",
       "1  ADAMS  ADAMS 12 FIVE STAR SCHOOLS  MULTIPOLYGON (((-105.05310614499996 ...   \n",
       "2  ADAMS             ADAMS COUNTY 14  MULTIPOLYGON (((-104.96883410999999 ...   \n",
       "\n",
       "                  street           city state    zip  \\\n",
       "0  5910 East 80th Avenue         Denver    CO  80229   \n",
       "1    1500 E 128th Avenue       Thornton    CO  80241   \n",
       "2  5291 East 60th Avenue  Commerce City    CO  80022   \n",
       "\n",
       "                                geo_county  \n",
       "0  MULTIPOLYGON (((-103.70574149517748 ...  \n",
       "1  MULTIPOLYGON (((-103.70574149517748 ...  \n",
       "2  MULTIPOLYGON (((-103.70574149517748 ...  "
      ]
     },
     "metadata": {},
     "output_type": "display_data"
    }
   ],
   "source": [
    "pd.options.display.max_colwidth = 40\n",
    "df = school_county.merge(district, on='dist', how='left')\n",
    "df = df.merge(county, on='county', how='left')\n",
    "head(df)"
   ]
  },
  {
   "cell_type": "code",
   "execution_count": 58,
   "metadata": {},
   "outputs": [
    {
     "ename": "Exception",
     "evalue": "This is here to keep you from accidentally running the below cell when using 'Run All'",
     "output_type": "error",
     "traceback": [
      "\u001b[0;31m---------------------------------------------------------------------------\u001b[0m",
      "\u001b[0;31mException\u001b[0m                                 Traceback (most recent call last)",
      "Cell \u001b[0;32mIn [58], line 1\u001b[0m\n\u001b[0;32m----> 1\u001b[0m \u001b[39mraise\u001b[39;00m \u001b[39mException\u001b[39;00m(\u001b[39m\"\u001b[39m\u001b[39mThis is here to keep you from accidentally running the below cell when using \u001b[39m\u001b[39m'\u001b[39m\u001b[39mRun All\u001b[39m\u001b[39m'\u001b[39m\u001b[39m\"\u001b[39m)\n",
      "\u001b[0;31mException\u001b[0m: This is here to keep you from accidentally running the below cell when using 'Run All'"
     ]
    }
   ],
   "source": [
    "raise Exception(\"This is here to keep you from accidentally running the below cell when using 'Run All'\")"
   ]
  },
  {
   "cell_type": "code",
   "execution_count": null,
   "metadata": {},
   "outputs": [
    {
     "name": "stdout",
     "output_type": "stream",
     "text": [
      "COLS:  11\n",
      "ROWS:  183\n"
     ]
    },
    {
     "data": {
      "text/html": [
       "<div>\n",
       "<style scoped>\n",
       "    .dataframe tbody tr th:only-of-type {\n",
       "        vertical-align: middle;\n",
       "    }\n",
       "\n",
       "    .dataframe tbody tr th {\n",
       "        vertical-align: top;\n",
       "    }\n",
       "\n",
       "    .dataframe thead th {\n",
       "        text-align: right;\n",
       "    }\n",
       "</style>\n",
       "<table border=\"1\" class=\"dataframe\">\n",
       "  <thead>\n",
       "    <tr style=\"text-align: right;\">\n",
       "      <th></th>\n",
       "      <th>county</th>\n",
       "      <th>dist</th>\n",
       "      <th>geo_county</th>\n",
       "      <th>geo_dist</th>\n",
       "      <th>geo_county_point</th>\n",
       "      <th>geo_dist_point</th>\n",
       "      <th>address</th>\n",
       "      <th>street</th>\n",
       "      <th>city</th>\n",
       "      <th>state</th>\n",
       "      <th>zip</th>\n",
       "    </tr>\n",
       "  </thead>\n",
       "  <tbody>\n",
       "    <tr>\n",
       "      <th>0</th>\n",
       "      <td>ADAMS</td>\n",
       "      <td>MAPLETON 1</td>\n",
       "      <td>MULTIPOLYGON (((-103.70574149517748 ...</td>\n",
       "      <td>MULTIPOLYGON (((-105.01581612299998 ...</td>\n",
       "      <td>POINT (-104.19309 39.83983)</td>\n",
       "      <td>POINT (-104.9187196 39.8415103)</td>\n",
       "      <td>5910 East 80th Avenue, Denver, CO, 8...</td>\n",
       "      <td>5910 East 80th Avenue</td>\n",
       "      <td>Denver</td>\n",
       "      <td>CO</td>\n",
       "      <td>80229</td>\n",
       "    </tr>\n",
       "    <tr>\n",
       "      <th>1</th>\n",
       "      <td>ADAMS</td>\n",
       "      <td>ADAMS 12 FIVE STAR SCHOOLS</td>\n",
       "      <td>MULTIPOLYGON (((-103.70574149517748 ...</td>\n",
       "      <td>MULTIPOLYGON (((-105.05310614499996 ...</td>\n",
       "      <td>POINT (-104.19309 39.83983)</td>\n",
       "      <td>POINT (-104.9668135 39.9262994)</td>\n",
       "      <td>1500 E 128th Avenue, Thornton, CO, 8...</td>\n",
       "      <td>1500 E 128th Avenue</td>\n",
       "      <td>Thornton</td>\n",
       "      <td>CO</td>\n",
       "      <td>80241</td>\n",
       "    </tr>\n",
       "    <tr>\n",
       "      <th>2</th>\n",
       "      <td>ADAMS</td>\n",
       "      <td>ADAMS COUNTY 14</td>\n",
       "      <td>MULTIPOLYGON (((-103.70574149517748 ...</td>\n",
       "      <td>MULTIPOLYGON (((-104.96883410999999 ...</td>\n",
       "      <td>POINT (-104.19309 39.83983)</td>\n",
       "      <td>POINT (-104.9268419 39.8059605)</td>\n",
       "      <td>5291 East 60th Avenue, Commerce City...</td>\n",
       "      <td>5291 East 60th Avenue</td>\n",
       "      <td>Commerce City</td>\n",
       "      <td>CO</td>\n",
       "      <td>80022</td>\n",
       "    </tr>\n",
       "  </tbody>\n",
       "</table>\n",
       "</div>"
      ],
      "text/plain": [
       "  county                        dist                               geo_county  \\\n",
       "0  ADAMS                  MAPLETON 1  MULTIPOLYGON (((-103.70574149517748 ...   \n",
       "1  ADAMS  ADAMS 12 FIVE STAR SCHOOLS  MULTIPOLYGON (((-103.70574149517748 ...   \n",
       "2  ADAMS             ADAMS COUNTY 14  MULTIPOLYGON (((-103.70574149517748 ...   \n",
       "\n",
       "                                  geo_dist             geo_county_point  \\\n",
       "0  MULTIPOLYGON (((-105.01581612299998 ...  POINT (-104.19309 39.83983)   \n",
       "1  MULTIPOLYGON (((-105.05310614499996 ...  POINT (-104.19309 39.83983)   \n",
       "2  MULTIPOLYGON (((-104.96883410999999 ...  POINT (-104.19309 39.83983)   \n",
       "\n",
       "                    geo_dist_point                                  address  \\\n",
       "0  POINT (-104.9187196 39.8415103)  5910 East 80th Avenue, Denver, CO, 8...   \n",
       "1  POINT (-104.9668135 39.9262994)  1500 E 128th Avenue, Thornton, CO, 8...   \n",
       "2  POINT (-104.9268419 39.8059605)  5291 East 60th Avenue, Commerce City...   \n",
       "\n",
       "                  street           city state    zip  \n",
       "0  5910 East 80th Avenue         Denver    CO  80229  \n",
       "1    1500 E 128th Avenue       Thornton    CO  80241  \n",
       "2  5291 East 60th Avenue  Commerce City    CO  80022  "
      ]
     },
     "metadata": {},
     "output_type": "display_data"
    }
   ],
   "source": [
    "df['address'] = df.street + ', ' + df.city + ', ' + df.state + ', ' + df.zip\n",
    "\n",
    "df['geo_dist_point'] = np.NaN\n",
    "google_api_kwargs = dict(provider='google', api_key='NVmnFlQnc_MiOFcCoz7dwIFmVgq5f1zncXCdwJp')\n",
    "\n",
    "df.loc[ ~ df.address.isna(), 'geo_dist_point'] = gp.tools.geocode(df.address, **google_api_kwargs)['geometry']\n",
    "\n",
    "df['geo_county_point'] = gp.tools.geocode(df.county.str.capitalize() + \" County, Colorado\", **google_api_kwargs)['geometry']\n",
    "\n",
    "df = df[['county', 'dist', 'geo_county', 'geo_dist', 'geo_county_point', 'geo_dist_point', 'address', 'street', 'city', 'state', 'zip']]\n",
    "head(df)"
   ]
  },
  {
   "cell_type": "code",
   "execution_count": null,
   "metadata": {},
   "outputs": [],
   "source": [
    "df.to_csv('../working-data/geo_county_school.csv', index=False)"
   ]
  }
 ],
 "metadata": {
  "kernelspec": {
   "display_name": "Python 3.10.8 64-bit",
   "language": "python",
   "name": "python3"
  },
  "language_info": {
   "codemirror_mode": {
    "name": "ipython",
    "version": 3
   },
   "file_extension": ".py",
   "mimetype": "text/x-python",
   "name": "python",
   "nbconvert_exporter": "python",
   "pygments_lexer": "ipython3",
   "version": "3.10.8"
  },
  "orig_nbformat": 4,
  "vscode": {
   "interpreter": {
    "hash": "908abd7e78fd4d71ba1be92795635fd82be5080a16e3cc7c1eae8bbfec458fa8"
   }
  }
 },
 "nbformat": 4,
 "nbformat_minor": 2
}
