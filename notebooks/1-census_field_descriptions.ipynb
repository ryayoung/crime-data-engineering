{
 "cells": [
  {
   "cell_type": "markdown",
   "metadata": {},
   "source": [
    "# Census Field Descriptions\n",
    "---\n",
    "- To supplement the \"Census Counties ...\" datasets, they've provided us a table with descriptions of each column name, for each historical standard of the census. Fortunately, the 2019 and 2012 census data (that's what we're using) uses the same standard: `acs_standard`\n",
    "- This script does the following:\n",
    "  - Filters the source dataframe to only include `acs_standard` column descriptions\n",
    "  - Selects only necessary columns (column name, description)\n",
    "  - Renames some values in column name, and removes some column name values we'll never use (geonum, geojson)"
   ]
  },
  {
   "cell_type": "code",
   "execution_count": 1,
   "metadata": {},
   "outputs": [
    {
     "data": {
      "text/html": [
       "<div><div id=86e943e6-2101-496d-ac73-230c0ed27bc5 style=\"display:none; background-color:#9D6CFF; color:white; width:200px; height:30px; padding-left:5px; border-radius:4px; flex-direction:row; justify-content:space-around; align-items:center;\" onmouseover=\"this.style.backgroundColor='#BA9BF8'\" onmouseout=\"this.style.backgroundColor='#9D6CFF'\" onclick=\"window.commands?.execute('create-mitosheet-from-dataframe-output');\">See Full Dataframe in Mito</div> <script> if (window.commands?.hasCommand('create-mitosheet-from-dataframe-output')) document.getElementById('86e943e6-2101-496d-ac73-230c0ed27bc5').style.display = 'flex' </script> <table border=\"1\" class=\"dataframe\">\n",
       "  <thead>\n",
       "    <tr style=\"text-align: right;\">\n",
       "      <th></th>\n",
       "      <th>column</th>\n",
       "      <th>description</th>\n",
       "    </tr>\n",
       "  </thead>\n",
       "  <tbody>\n",
       "    <tr>\n",
       "      <th>0</th>\n",
       "      <td>county</td>\n",
       "      <td>Geographic Area common name</td>\n",
       "    </tr>\n",
       "    <tr>\n",
       "      <th>3</th>\n",
       "      <td>pop</td>\n",
       "      <td>Population Estimate for the given time range</td>\n",
       "    </tr>\n",
       "    <tr>\n",
       "      <th>4</th>\n",
       "      <td>hispanic</td>\n",
       "      <td>Estimate for the Hispanic Population</td>\n",
       "    </tr>\n",
       "    <tr>\n",
       "      <th>5</th>\n",
       "      <td>white_nh</td>\n",
       "      <td>Estimate for the White, Non-Hispanic Population</td>\n",
       "    </tr>\n",
       "    <tr>\n",
       "      <th>6</th>\n",
       "      <td>black_nh</td>\n",
       "      <td>Estimate for the Black, Non-Hispanic Population</td>\n",
       "    </tr>\n",
       "    <tr>\n",
       "      <th>...</th>\n",
       "      <td>...</td>\n",
       "      <td>...</td>\n",
       "    </tr>\n",
       "    <tr>\n",
       "      <th>153</th>\n",
       "      <td>emp</td>\n",
       "      <td>Estimated number of people in the civilian labor force that are employed</td>\n",
       "    </tr>\n",
       "    <tr>\n",
       "      <th>154</th>\n",
       "      <td>unemp</td>\n",
       "      <td>Estimated number of people in the civilian labor force that are not employed</td>\n",
       "    </tr>\n",
       "    <tr>\n",
       "      <th>155</th>\n",
       "      <td>armedfrcs</td>\n",
       "      <td>Estimated number of people in the armed forces</td>\n",
       "    </tr>\n",
       "    <tr>\n",
       "      <th>156</th>\n",
       "      <td>not_lf</td>\n",
       "      <td>Estimated number of people not in the labor force</td>\n",
       "    </tr>\n",
       "    <tr>\n",
       "      <th>157</th>\n",
       "      <td>civ_ni_</td>\n",
       "      <td>Estimated total civilian non-institutionalized population</td>\n",
       "    </tr>\n",
       "  </tbody>\n",
       "</table></div>"
      ],
      "text/plain": [
       "        column                                        description\n",
       "0       county                        Geographic Area common name\n",
       "3          pop       Population Estimate for the given time range\n",
       "4     hispanic               Estimate for the Hispanic Population\n",
       "5     white_nh    Estimate for the White, Non-Hispanic Population\n",
       "6     black_nh    Estimate for the Black, Non-Hispanic Population\n",
       "..         ...                                                ...\n",
       "153        emp  Estimated number of people in the civilian lab...\n",
       "154      unemp  Estimated number of people in the civilian lab...\n",
       "155  armedfrcs     Estimated number of people in the armed forces\n",
       "156     not_lf  Estimated number of people not in the labor force\n",
       "157    civ_ni_  Estimated total civilian non-institutionalized...\n",
       "\n",
       "[155 rows x 2 columns]"
      ]
     },
     "execution_count": 1,
     "metadata": {},
     "output_type": "execute_result"
    }
   ],
   "source": [
    "import pandas as pd\n",
    "desc = pd.read_csv('../input-data/census_field_desc__qten-sdpn.csv')\n",
    "desc = desc[desc.type == 'acs_standard']\n",
    "desc = desc[['apifieldname', 'description']]\n",
    "desc = desc.rename(columns={'apifieldname':'column'})\n",
    "desc = desc[ ~ desc.column.isin(['geonum', 'geojson'])]\n",
    "desc.iat[0,0] = 'county'\n",
    "desc"
   ]
  },
  {
   "cell_type": "code",
   "execution_count": 2,
   "metadata": {},
   "outputs": [],
   "source": [
    "desc.to_csv(\"../working-data/census_field_descriptions.csv\", index=False)"
   ]
  }
 ],
 "metadata": {
  "kernelspec": {
   "display_name": "Python 3.11.0 64-bit",
   "language": "python",
   "name": "python3"
  },
  "language_info": {
   "codemirror_mode": {
    "name": "ipython",
    "version": 3
   },
   "file_extension": ".py",
   "mimetype": "text/x-python",
   "name": "python",
   "nbconvert_exporter": "python",
   "pygments_lexer": "ipython3",
   "version": "3.11.0"
  },
  "orig_nbformat": 4,
  "vscode": {
   "interpreter": {
    "hash": "a74f4b9808952b159e4956b23cc5182dbb6a1fff088e0ffe2d810f34689a2791"
   }
  }
 },
 "nbformat": 4,
 "nbformat_minor": 2
}
