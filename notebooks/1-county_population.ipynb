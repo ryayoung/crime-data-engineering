{
 "cells": [
  {
   "cell_type": "markdown",
   "metadata": {},
   "source": [
    "## Population\n",
    "\n",
    "> This data will supplement our census data in the next step of data prep. We're using the Population dataset because it's more accurate (census is just estimates), and it lets us create the age grouping ourselves. There are nearly 400,000 rows, because they give us population by year, county, and EACH individual age. In our case, we want to create an age grouping that separates students in school, and adults. So we chose >= 19, and < 19. It also has a 60 year timeframe. So number of rows = 60 years * 64 counties * 90 years of age."
   ]
  },
  {
   "cell_type": "code",
   "execution_count": 1,
   "metadata": {},
   "outputs": [
    {
     "name": "stdout",
     "output_type": "stream",
     "text": [
      "7 cols x 381504 rows\n"
     ]
    },
    {
     "data": {
      "text/html": [
       "<div>\n",
       "<style scoped>\n",
       "    .dataframe tbody tr th:only-of-type {\n",
       "        vertical-align: middle;\n",
       "    }\n",
       "\n",
       "    .dataframe tbody tr th {\n",
       "        vertical-align: top;\n",
       "    }\n",
       "\n",
       "    .dataframe thead th {\n",
       "        text-align: right;\n",
       "    }\n",
       "</style>\n",
       "<table border=\"1\" class=\"dataframe\">\n",
       "  <thead>\n",
       "    <tr style=\"text-align: right;\">\n",
       "      <th></th>\n",
       "      <th>county</th>\n",
       "      <th>fipscode</th>\n",
       "      <th>year</th>\n",
       "      <th>age</th>\n",
       "      <th>malepopulation</th>\n",
       "      <th>femalepopulation</th>\n",
       "      <th>totalpopulation</th>\n",
       "    </tr>\n",
       "  </thead>\n",
       "  <tbody>\n",
       "    <tr>\n",
       "      <th>0</th>\n",
       "      <td>Adams</td>\n",
       "      <td>1.0</td>\n",
       "      <td>1990.0</td>\n",
       "      <td>0.0</td>\n",
       "      <td>2354.0</td>\n",
       "      <td>2404.0</td>\n",
       "      <td>4758.0</td>\n",
       "    </tr>\n",
       "    <tr>\n",
       "      <th>1</th>\n",
       "      <td>Adams</td>\n",
       "      <td>1.0</td>\n",
       "      <td>1990.0</td>\n",
       "      <td>1.0</td>\n",
       "      <td>2345.0</td>\n",
       "      <td>2375.0</td>\n",
       "      <td>4720.0</td>\n",
       "    </tr>\n",
       "    <tr>\n",
       "      <th>2</th>\n",
       "      <td>Adams</td>\n",
       "      <td>1.0</td>\n",
       "      <td>1990.0</td>\n",
       "      <td>2.0</td>\n",
       "      <td>2413.0</td>\n",
       "      <td>2219.0</td>\n",
       "      <td>4632.0</td>\n",
       "    </tr>\n",
       "  </tbody>\n",
       "</table>\n",
       "</div>"
      ],
      "text/plain": [
       "  county  fipscode    year  age  malepopulation  femalepopulation  \\\n",
       "0  Adams       1.0  1990.0  0.0          2354.0            2404.0   \n",
       "1  Adams       1.0  1990.0  1.0          2345.0            2375.0   \n",
       "2  Adams       1.0  1990.0  2.0          2413.0            2219.0   \n",
       "\n",
       "   totalpopulation  \n",
       "0           4758.0  \n",
       "1           4720.0  \n",
       "2           4632.0  "
      ]
     },
     "metadata": {},
     "output_type": "display_data"
    }
   ],
   "source": [
    "import pandas as pd, numpy as np\n",
    "import df_util\n",
    "from df_util import head\n",
    "input_path = lambda name: f'../input-data/{name}.csv'\n",
    "work_path = lambda name: f'../working-data/{name}.csv'\n",
    "\n",
    "df_raw = pd.read_csv(input_path('county_population__eeah-cmy8'))\n",
    "head(df_raw)"
   ]
  },
  {
   "cell_type": "markdown",
   "metadata": {},
   "source": [
    "## Create age groups (< 19, >= 19)"
   ]
  },
  {
   "cell_type": "code",
   "execution_count": 2,
   "metadata": {},
   "outputs": [
    {
     "name": "stdout",
     "output_type": "stream",
     "text": [
      "8 cols x 381504 rows\n"
     ]
    },
    {
     "data": {
      "text/html": [
       "<div>\n",
       "<style scoped>\n",
       "    .dataframe tbody tr th:only-of-type {\n",
       "        vertical-align: middle;\n",
       "    }\n",
       "\n",
       "    .dataframe tbody tr th {\n",
       "        vertical-align: top;\n",
       "    }\n",
       "\n",
       "    .dataframe thead th {\n",
       "        text-align: right;\n",
       "    }\n",
       "</style>\n",
       "<table border=\"1\" class=\"dataframe\">\n",
       "  <thead>\n",
       "    <tr style=\"text-align: right;\">\n",
       "      <th></th>\n",
       "      <th>county</th>\n",
       "      <th>fipscode</th>\n",
       "      <th>age_range</th>\n",
       "      <th>year</th>\n",
       "      <th>age</th>\n",
       "      <th>malepopulation</th>\n",
       "      <th>femalepopulation</th>\n",
       "      <th>totalpopulation</th>\n",
       "    </tr>\n",
       "  </thead>\n",
       "  <tbody>\n",
       "    <tr>\n",
       "      <th>0</th>\n",
       "      <td>ADAMS</td>\n",
       "      <td>1.0</td>\n",
       "      <td>under19</td>\n",
       "      <td>1990.0</td>\n",
       "      <td>0.0</td>\n",
       "      <td>2354.0</td>\n",
       "      <td>2404.0</td>\n",
       "      <td>4758.0</td>\n",
       "    </tr>\n",
       "    <tr>\n",
       "      <th>1</th>\n",
       "      <td>ADAMS</td>\n",
       "      <td>1.0</td>\n",
       "      <td>under19</td>\n",
       "      <td>1990.0</td>\n",
       "      <td>1.0</td>\n",
       "      <td>2345.0</td>\n",
       "      <td>2375.0</td>\n",
       "      <td>4720.0</td>\n",
       "    </tr>\n",
       "    <tr>\n",
       "      <th>2</th>\n",
       "      <td>ADAMS</td>\n",
       "      <td>1.0</td>\n",
       "      <td>under19</td>\n",
       "      <td>1990.0</td>\n",
       "      <td>2.0</td>\n",
       "      <td>2413.0</td>\n",
       "      <td>2219.0</td>\n",
       "      <td>4632.0</td>\n",
       "    </tr>\n",
       "  </tbody>\n",
       "</table>\n",
       "</div>"
      ],
      "text/plain": [
       "  county  fipscode age_range    year  age  malepopulation  femalepopulation  \\\n",
       "0  ADAMS       1.0   under19  1990.0  0.0          2354.0            2404.0   \n",
       "1  ADAMS       1.0   under19  1990.0  1.0          2345.0            2375.0   \n",
       "2  ADAMS       1.0   under19  1990.0  2.0          2413.0            2219.0   \n",
       "\n",
       "   totalpopulation  \n",
       "0           4758.0  \n",
       "1           4720.0  \n",
       "2           4632.0  "
      ]
     },
     "metadata": {},
     "output_type": "display_data"
    }
   ],
   "source": [
    "df = df_raw.copy()\n",
    "df.county = df.county.str.upper()\n",
    "df['age_range'] = \"over18\"\n",
    "df.loc[df.age <= 18, 'age_range'] = 'under19'\n",
    "df.insert(2, 'age_range', df.pop('age_range'))\n",
    "\n",
    "df_with_groups = df\n",
    "head(df_with_groups)"
   ]
  },
  {
   "cell_type": "code",
   "execution_count": 3,
   "metadata": {},
   "outputs": [
    {
     "name": "stdout",
     "output_type": "stream",
     "text": [
      "6 cols x 7808 rows\n"
     ]
    },
    {
     "data": {
      "text/html": [
       "<div>\n",
       "<style scoped>\n",
       "    .dataframe tbody tr th:only-of-type {\n",
       "        vertical-align: middle;\n",
       "    }\n",
       "\n",
       "    .dataframe tbody tr th {\n",
       "        vertical-align: top;\n",
       "    }\n",
       "\n",
       "    .dataframe thead th {\n",
       "        text-align: right;\n",
       "    }\n",
       "</style>\n",
       "<table border=\"1\" class=\"dataframe\">\n",
       "  <thead>\n",
       "    <tr style=\"text-align: right;\">\n",
       "      <th></th>\n",
       "      <th>year</th>\n",
       "      <th>county</th>\n",
       "      <th>age_range</th>\n",
       "      <th>male</th>\n",
       "      <th>female</th>\n",
       "      <th>total</th>\n",
       "    </tr>\n",
       "  </thead>\n",
       "  <tbody>\n",
       "    <tr>\n",
       "      <th>0</th>\n",
       "      <td>1990.0</td>\n",
       "      <td>ADAMS</td>\n",
       "      <td>over18</td>\n",
       "      <td>90383.0</td>\n",
       "      <td>94282.0</td>\n",
       "      <td>184665.0</td>\n",
       "    </tr>\n",
       "    <tr>\n",
       "      <th>1</th>\n",
       "      <td>1990.0</td>\n",
       "      <td>ADAMS</td>\n",
       "      <td>under19</td>\n",
       "      <td>41519.0</td>\n",
       "      <td>39525.0</td>\n",
       "      <td>81044.0</td>\n",
       "    </tr>\n",
       "    <tr>\n",
       "      <th>2</th>\n",
       "      <td>1990.0</td>\n",
       "      <td>ALAMOSA</td>\n",
       "      <td>over18</td>\n",
       "      <td>4488.0</td>\n",
       "      <td>4823.0</td>\n",
       "      <td>9311.0</td>\n",
       "    </tr>\n",
       "  </tbody>\n",
       "</table>\n",
       "</div>"
      ],
      "text/plain": [
       "     year   county age_range     male   female     total\n",
       "0  1990.0    ADAMS    over18  90383.0  94282.0  184665.0\n",
       "1  1990.0    ADAMS   under19  41519.0  39525.0   81044.0\n",
       "2  1990.0  ALAMOSA    over18   4488.0   4823.0    9311.0"
      ]
     },
     "metadata": {},
     "output_type": "display_data"
    }
   ],
   "source": [
    "df = (df_with_groups.copy()\n",
    "    .drop(columns=['age', 'fipscode'])\n",
    "    .rename(columns={\n",
    "        'malepopulation': 'male',\n",
    "        'femalepopulation': 'female',\n",
    "        'totalpopulation': 'total',\n",
    "    })\n",
    "    .groupby(['year', 'county', 'age_range'])\n",
    "    .sum()\n",
    "    .reset_index()\n",
    ")\n",
    "df_grouped = df\n",
    "head(df_grouped)"
   ]
  },
  {
   "cell_type": "markdown",
   "metadata": {},
   "source": [
    "### Notice the `age_range` column. We should pivot those values out to their own columns, and mix with our existing columns\n",
    "- First, pivot age_range into the male, female, and total columns\n",
    "- We're left with a multilevel column index, so we drop a level and rename everything by hand.\n",
    "- Lastly, restore the total, male, and female columns since they got split in half when pivoting."
   ]
  },
  {
   "cell_type": "code",
   "execution_count": 4,
   "metadata": {},
   "outputs": [
    {
     "name": "stdout",
     "output_type": "stream",
     "text": [
      "8 cols x 3904 rows\n"
     ]
    },
    {
     "data": {
      "text/html": [
       "<div>\n",
       "<style scoped>\n",
       "    .dataframe tbody tr th:only-of-type {\n",
       "        vertical-align: middle;\n",
       "    }\n",
       "\n",
       "    .dataframe tbody tr th {\n",
       "        vertical-align: top;\n",
       "    }\n",
       "\n",
       "    .dataframe thead th {\n",
       "        text-align: right;\n",
       "    }\n",
       "</style>\n",
       "<table border=\"1\" class=\"dataframe\">\n",
       "  <thead>\n",
       "    <tr style=\"text-align: right;\">\n",
       "      <th></th>\n",
       "      <th>year</th>\n",
       "      <th>county</th>\n",
       "      <th>over18_male</th>\n",
       "      <th>under19_male</th>\n",
       "      <th>over18_female</th>\n",
       "      <th>under19_female</th>\n",
       "      <th>over18</th>\n",
       "      <th>under19</th>\n",
       "    </tr>\n",
       "  </thead>\n",
       "  <tbody>\n",
       "    <tr>\n",
       "      <th>0</th>\n",
       "      <td>1990.0</td>\n",
       "      <td>ADAMS</td>\n",
       "      <td>90383.0</td>\n",
       "      <td>41519.0</td>\n",
       "      <td>94282.0</td>\n",
       "      <td>39525.0</td>\n",
       "      <td>184665.0</td>\n",
       "      <td>81044.0</td>\n",
       "    </tr>\n",
       "    <tr>\n",
       "      <th>1</th>\n",
       "      <td>1990.0</td>\n",
       "      <td>ALAMOSA</td>\n",
       "      <td>4488.0</td>\n",
       "      <td>2189.0</td>\n",
       "      <td>4823.0</td>\n",
       "      <td>2117.0</td>\n",
       "      <td>9311.0</td>\n",
       "      <td>4306.0</td>\n",
       "    </tr>\n",
       "    <tr>\n",
       "      <th>2</th>\n",
       "      <td>1990.0</td>\n",
       "      <td>ARAPAHOE</td>\n",
       "      <td>134481.0</td>\n",
       "      <td>57241.0</td>\n",
       "      <td>146820.0</td>\n",
       "      <td>54747.0</td>\n",
       "      <td>281301.0</td>\n",
       "      <td>111988.0</td>\n",
       "    </tr>\n",
       "  </tbody>\n",
       "</table>\n",
       "</div>"
      ],
      "text/plain": [
       "     year    county  over18_male  under19_male  over18_female  under19_female  \\\n",
       "0  1990.0     ADAMS      90383.0       41519.0        94282.0         39525.0   \n",
       "1  1990.0   ALAMOSA       4488.0        2189.0         4823.0          2117.0   \n",
       "2  1990.0  ARAPAHOE     134481.0       57241.0       146820.0         54747.0   \n",
       "\n",
       "     over18   under19  \n",
       "0  184665.0   81044.0  \n",
       "1    9311.0    4306.0  \n",
       "2  281301.0  111988.0  "
      ]
     },
     "metadata": {},
     "output_type": "display_data"
    }
   ],
   "source": [
    "df = (df_grouped\n",
    "    .copy()\n",
    "    .pivot(\n",
    "        index=['year', 'county'],\n",
    "        columns='age_range',\n",
    "        values=['male', 'female', 'total']\n",
    "    )\n",
    "    .reset_index()\n",
    "    .flatten_multi_level_cols()\n",
    "    .set_columns(['year', 'county', 'over18_male', 'under19_male', 'over18_female', 'under19_female', 'over18', 'under19'])\n",
    ")\n",
    "df_pivoted = df\n",
    "head(df_pivoted)"
   ]
  },
  {
   "cell_type": "code",
   "execution_count": 5,
   "metadata": {},
   "outputs": [
    {
     "name": "stdout",
     "output_type": "stream",
     "text": [
      "11 cols x 3904 rows\n"
     ]
    },
    {
     "data": {
      "text/html": [
       "<div>\n",
       "<style scoped>\n",
       "    .dataframe tbody tr th:only-of-type {\n",
       "        vertical-align: middle;\n",
       "    }\n",
       "\n",
       "    .dataframe tbody tr th {\n",
       "        vertical-align: top;\n",
       "    }\n",
       "\n",
       "    .dataframe thead th {\n",
       "        text-align: right;\n",
       "    }\n",
       "</style>\n",
       "<table border=\"1\" class=\"dataframe\">\n",
       "  <thead>\n",
       "    <tr style=\"text-align: right;\">\n",
       "      <th></th>\n",
       "      <th>year</th>\n",
       "      <th>county</th>\n",
       "      <th>total</th>\n",
       "      <th>male</th>\n",
       "      <th>female</th>\n",
       "      <th>over18</th>\n",
       "      <th>under19</th>\n",
       "      <th>under19_male</th>\n",
       "      <th>under19_female</th>\n",
       "      <th>over18_male</th>\n",
       "      <th>over18_female</th>\n",
       "    </tr>\n",
       "  </thead>\n",
       "  <tbody>\n",
       "    <tr>\n",
       "      <th>0</th>\n",
       "      <td>1990.0</td>\n",
       "      <td>ADAMS</td>\n",
       "      <td>265709.0</td>\n",
       "      <td>131902.0</td>\n",
       "      <td>133807.0</td>\n",
       "      <td>184665.0</td>\n",
       "      <td>81044.0</td>\n",
       "      <td>41519.0</td>\n",
       "      <td>39525.0</td>\n",
       "      <td>90383.0</td>\n",
       "      <td>94282.0</td>\n",
       "    </tr>\n",
       "    <tr>\n",
       "      <th>1</th>\n",
       "      <td>1990.0</td>\n",
       "      <td>ALAMOSA</td>\n",
       "      <td>13617.0</td>\n",
       "      <td>6677.0</td>\n",
       "      <td>6940.0</td>\n",
       "      <td>9311.0</td>\n",
       "      <td>4306.0</td>\n",
       "      <td>2189.0</td>\n",
       "      <td>2117.0</td>\n",
       "      <td>4488.0</td>\n",
       "      <td>4823.0</td>\n",
       "    </tr>\n",
       "    <tr>\n",
       "      <th>2</th>\n",
       "      <td>1990.0</td>\n",
       "      <td>ARAPAHOE</td>\n",
       "      <td>393289.0</td>\n",
       "      <td>191722.0</td>\n",
       "      <td>201567.0</td>\n",
       "      <td>281301.0</td>\n",
       "      <td>111988.0</td>\n",
       "      <td>57241.0</td>\n",
       "      <td>54747.0</td>\n",
       "      <td>134481.0</td>\n",
       "      <td>146820.0</td>\n",
       "    </tr>\n",
       "  </tbody>\n",
       "</table>\n",
       "</div>"
      ],
      "text/plain": [
       "     year    county     total      male    female    over18   under19  \\\n",
       "0  1990.0     ADAMS  265709.0  131902.0  133807.0  184665.0   81044.0   \n",
       "1  1990.0   ALAMOSA   13617.0    6677.0    6940.0    9311.0    4306.0   \n",
       "2  1990.0  ARAPAHOE  393289.0  191722.0  201567.0  281301.0  111988.0   \n",
       "\n",
       "   under19_male  under19_female  over18_male  over18_female  \n",
       "0       41519.0         39525.0      90383.0        94282.0  \n",
       "1        2189.0          2117.0       4488.0         4823.0  \n",
       "2       57241.0         54747.0     134481.0       146820.0  "
      ]
     },
     "metadata": {},
     "output_type": "display_data"
    }
   ],
   "source": [
    "# New calculated columns\n",
    "df = df_pivoted.copy()\n",
    "df['total'] = df.under19 + df.over18\n",
    "df['male'] = df.under19_male + df.over18_male\n",
    "df['female'] = df.under19_female + df.over18_female\n",
    "\n",
    "df = df[['year', 'county', 'total', 'male', 'female', 'over18', 'under19', 'under19_male', 'under19_female', 'over18_male', 'over18_female']]\n",
    "df_with_calculated_cols = df\n",
    "head(df_with_calculated_cols)"
   ]
  },
  {
   "cell_type": "code",
   "execution_count": 6,
   "metadata": {},
   "outputs": [],
   "source": [
    "df_with_calculated_cols.to_csv(work_path('county_population'), index=False)"
   ]
  }
 ],
 "metadata": {
  "kernelspec": {
   "display_name": "Python 3.10.8 64-bit",
   "language": "python",
   "name": "python3"
  },
  "language_info": {
   "codemirror_mode": {
    "name": "ipython",
    "version": 3
   },
   "file_extension": ".py",
   "mimetype": "text/x-python",
   "name": "python",
   "nbconvert_exporter": "python",
   "pygments_lexer": "ipython3",
   "version": "3.10.8"
  },
  "orig_nbformat": 4,
  "vscode": {
   "interpreter": {
    "hash": "908abd7e78fd4d71ba1be92795635fd82be5080a16e3cc7c1eae8bbfec458fa8"
   }
  }
 },
 "nbformat": 4,
 "nbformat_minor": 2
}
