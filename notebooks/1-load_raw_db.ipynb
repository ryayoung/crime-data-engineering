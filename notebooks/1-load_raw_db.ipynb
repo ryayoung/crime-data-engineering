{
 "cells": [
  {
   "cell_type": "code",
   "execution_count": 35,
   "metadata": {},
   "outputs": [],
   "source": [
    "def table_exists(con, name):\n",
    "    c = con.cursor()\n",
    "                \n",
    "    # get the count of tables with the name\n",
    "    c.execute(f''' SELECT count(name) FROM sqlite_master WHERE type='table' AND name='{name}' ''')\n",
    "\n",
    "    # if the count is 1, then table exists\n",
    "    if c.fetchone()[0]==1 :\n",
    "        return True\n",
    "    return False"
   ]
  },
  {
   "cell_type": "code",
   "execution_count": 21,
   "metadata": {},
   "outputs": [
    {
     "data": {
      "text/plain": [
       "False"
      ]
     },
     "execution_count": 21,
     "metadata": {},
     "output_type": "execute_result"
    }
   ],
   "source": [
    "table_exists(sql, 'districts')"
   ]
  },
  {
   "cell_type": "code",
   "execution_count": 44,
   "metadata": {},
   "outputs": [
    {
     "name": "stdout",
     "output_type": "stream",
     "text": [
      "crime_16_19\n",
      "crime_97_15\n",
      "districts\n",
      "counties\n",
      "census_counties_2012\n",
      "census_counties_2013\n",
      "census_counties_2014\n",
      "census_counties_2015\n",
      "census_counties_2016\n",
      "census_counties_2017\n",
      "census_counties_2018\n",
      "census_counties_2019\n",
      "census_counties_field_desc\n",
      "county_population\n",
      "dist_grad_rate\n",
      "dist_mobility_demographics\n",
      "dist_student_mobility\n"
     ]
    }
   ],
   "source": [
    "import pandas as pd, numpy as numpy\n",
    "import sqlite3 as sqlite\n",
    "import df_util\n",
    "from df_util import head\n",
    "sql = sqlite.connect('../raw_data.db')\n",
    "\n",
    "fmt_url = lambda id: f'https://data.colorado.gov/api/views/{id}/rows.csv?accessType=DOWNLOAD'\n",
    "links = {\n",
    "    'districts': 'mm2p-ag5w',\n",
    "    'counties': 'ahgn-r8s5',\n",
    "    'census_counties_2012': 'f4n4-vnyx',\n",
    "    'census_counties_2013': 'm3j7-raj9',\n",
    "    'census_counties_2014': 'wshk-29g7',\n",
    "    'census_counties_2015': 't48m-528x',\n",
    "    'census_counties_2016': 'eghh-ua8y',\n",
    "    'census_counties_2017': 'ewkj-ipn7',\n",
    "    'census_counties_2018': 'xum2-smvh',\n",
    "    'census_counties_2019': '8j3i-rjn4',\n",
    "    'census_counties_field_desc': 'qten-sdpn',\n",
    "    'county_population': 'eeah-cmy8',\n",
    "    'crime_16_19': 'j6g4-gayk',\n",
    "    'crime_97_15': '6vnq-az4b',\n",
    "    'dist_grad_rate': 'cfyh-6xxg',\n",
    "    'dist_mobility_demographics': 'rg84-k4d3',\n",
    "    'dist_student_mobility': '6wcd-ysh5',\n",
    "}\n",
    "\n",
    "for name, id in links.items():\n",
    "    if table_exists(sql, name):\n",
    "        continue\n",
    "    df = pd.read_csv(fmt_url(id))\n",
    "    df.to_sql(name, sql, index=None, if_exists='replace')\n",
    "\n",
    "\n",
    "c = sql.cursor()\n",
    "\n",
    "tables = c.execute('''SELECT name FROM sqlite_master WHERE type='table';''').fetchall()\n",
    "\n",
    "\n",
    "tables = [t[0] for t in tables]\n",
    "print(*tables, sep='\\n')"
   ]
  }
 ],
 "metadata": {
  "kernelspec": {
   "display_name": "Python 3.10.8 64-bit",
   "language": "python",
   "name": "python3"
  },
  "language_info": {
   "codemirror_mode": {
    "name": "ipython",
    "version": 3
   },
   "file_extension": ".py",
   "mimetype": "text/x-python",
   "name": "python",
   "nbconvert_exporter": "python",
   "pygments_lexer": "ipython3",
   "version": "3.10.8"
  },
  "orig_nbformat": 4,
  "vscode": {
   "interpreter": {
    "hash": "908abd7e78fd4d71ba1be92795635fd82be5080a16e3cc7c1eae8bbfec458fa8"
   }
  }
 },
 "nbformat": 4,
 "nbformat_minor": 2
}
