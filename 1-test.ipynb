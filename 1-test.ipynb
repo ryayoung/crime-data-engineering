{
 "cells": [
  {
   "cell_type": "code",
   "execution_count": 20,
   "metadata": {},
   "outputs": [
    {
     "data": {
      "text/plain": [
       "'hi'"
      ]
     },
     "execution_count": 20,
     "metadata": {},
     "output_type": "execute_result"
    }
   ],
   "source": [
    "var = \"hi\"\n",
    "\n",
    "if isinstance(string := var, str):\n",
    "    pass\n",
    "\n",
    "if isinstance(integer := var, int):\n",
    "    pass\n",
    "\n",
    "integer"
   ]
  },
  {
   "cell_type": "code",
   "execution_count": 2,
   "metadata": {},
   "outputs": [
    {
     "data": {
      "text/plain": [
       "'pandas.core.frame'"
      ]
     },
     "execution_count": 2,
     "metadata": {},
     "output_type": "execute_result"
    }
   ],
   "source": [
    "import inspect\n",
    "import pandas as pd\n",
    "\n"
   ]
  },
  {
   "cell_type": "code",
   "execution_count": 12,
   "metadata": {},
   "outputs": [
    {
     "data": {
      "text/plain": [
       "{(1, 2), (1, 3), (2, 3)}"
      ]
     },
     "execution_count": 12,
     "metadata": {},
     "output_type": "execute_result"
    }
   ],
   "source": [
    "s = set()\n",
    "\n",
    "s.add((1,2))\n",
    "s.add((1,2))\n",
    "s.add((1,3))\n",
    "s.add((1,3))\n",
    "s.add((2,3))\n",
    "\n",
    "s\n"
   ]
  },
  {
   "cell_type": "code",
   "execution_count": 1,
   "metadata": {},
   "outputs": [
    {
     "data": {
      "text/plain": [
       "{('pandas.core.frame', 'DataFrame', 'foo')}"
      ]
     },
     "execution_count": 1,
     "metadata": {},
     "output_type": "execute_result"
    }
   ],
   "source": [
    "from inject_attr import inject, Inject\n",
    "# import pandas as pd\n",
    "\n",
    "# @inject(pd.DataFrame)\n",
    "# def shape(self):\n",
    "#     ...\n",
    "\n",
    "import pandas as pd\n",
    "@inject(pd.DataFrame)\n",
    "@property\n",
    "def foo(self):\n",
    "    return 'ryan'\n",
    "\n",
    "\n",
    "# {('pandas.core.frame', 'DataFrame', 'foo')}\n",
    "\n",
    "# @inject(pd.DataFrame, pd.Series)\n",
    "# @property\n",
    "# def nrows(self):\n",
    "#     return self.shape[0]\n",
    "\n",
    "\n",
    "# print(df.nrows)\n",
    "# print(sr.nrows)"
   ]
  },
  {
   "cell_type": "code",
   "execution_count": 1,
   "metadata": {},
   "outputs": [
    {
     "data": {
      "text/plain": [
       "'lol'"
      ]
     },
     "execution_count": 1,
     "metadata": {},
     "output_type": "execute_result"
    }
   ],
   "source": [
    "import inspect\n",
    "import pandas as pd\n",
    "from numpy import NaN\n",
    "from inject_attr import inject, Inject\n",
    "\n",
    "df = pd.DataFrame({'a': [1,2,3], 'b': [4,5,NaN], 'c': [10,20,30]})\n",
    "sr = pd.Series([1,2,3,4,5])\n",
    "\n",
    "@inject(pd.DataFrame, as_property=True)\n",
    "def lol(self):\n",
    "    return 'lol'\n",
    "\n",
    "df.lol"
   ]
  },
  {
   "cell_type": "code",
   "execution_count": 47,
   "metadata": {},
   "outputs": [
    {
     "name": "stdout",
     "output_type": "stream",
     "text": [
      "False\n",
      "<class 'str'>\n",
      "False\n"
     ]
    },
    {
     "ename": "TypeError",
     "evalue": "unsupported callable",
     "output_type": "error",
     "traceback": [
      "\u001b[0;31m---------------------------------------------------------------------------\u001b[0m",
      "\u001b[0;31mTypeError\u001b[0m                                 Traceback (most recent call last)",
      "File \u001b[0;32m/opt/homebrew/Cellar/python@3.10/3.10.8/Frameworks/Python.framework/Versions/3.10/lib/python3.10/inspect.py:1285\u001b[0m, in \u001b[0;36mgetfullargspec\u001b[0;34m(func)\u001b[0m\n\u001b[1;32m   1268\u001b[0m \u001b[39mtry\u001b[39;00m:\n\u001b[1;32m   1269\u001b[0m     \u001b[39m# Re: `skip_bound_arg=False`\u001b[39;00m\n\u001b[1;32m   1270\u001b[0m     \u001b[39m#\u001b[39;00m\n\u001b[0;32m   (...)\u001b[0m\n\u001b[1;32m   1282\u001b[0m     \u001b[39m# getfullargspec() historically ignored __wrapped__ attributes,\u001b[39;00m\n\u001b[1;32m   1283\u001b[0m     \u001b[39m# so we ensure that remains the case in 3.3+\u001b[39;00m\n\u001b[0;32m-> 1285\u001b[0m     sig \u001b[39m=\u001b[39m _signature_from_callable(func,\n\u001b[1;32m   1286\u001b[0m                                    follow_wrapper_chains\u001b[39m=\u001b[39;49m\u001b[39mFalse\u001b[39;49;00m,\n\u001b[1;32m   1287\u001b[0m                                    skip_bound_arg\u001b[39m=\u001b[39;49m\u001b[39mFalse\u001b[39;49;00m,\n\u001b[1;32m   1288\u001b[0m                                    sigcls\u001b[39m=\u001b[39;49mSignature,\n\u001b[1;32m   1289\u001b[0m                                    eval_str\u001b[39m=\u001b[39;49m\u001b[39mFalse\u001b[39;49;00m)\n\u001b[1;32m   1290\u001b[0m \u001b[39mexcept\u001b[39;00m \u001b[39mException\u001b[39;00m \u001b[39mas\u001b[39;00m ex:\n\u001b[1;32m   1291\u001b[0m     \u001b[39m# Most of the times 'signature' will raise ValueError.\u001b[39;00m\n\u001b[1;32m   1292\u001b[0m     \u001b[39m# But, it can also raise AttributeError, and, maybe something\u001b[39;00m\n\u001b[1;32m   1293\u001b[0m     \u001b[39m# else. So to be fully backwards compatible, we catch all\u001b[39;00m\n\u001b[1;32m   1294\u001b[0m     \u001b[39m# possible exceptions here, and reraise a TypeError.\u001b[39;00m\n",
      "File \u001b[0;32m/opt/homebrew/Cellar/python@3.10/3.10.8/Frameworks/Python.framework/Versions/3.10/lib/python3.10/inspect.py:2395\u001b[0m, in \u001b[0;36m_signature_from_callable\u001b[0;34m(obj, follow_wrapper_chains, skip_bound_arg, globals, locals, eval_str, sigcls)\u001b[0m\n\u001b[1;32m   2394\u001b[0m \u001b[39mif\u001b[39;00m \u001b[39mnot\u001b[39;00m callable(obj):\n\u001b[0;32m-> 2395\u001b[0m     \u001b[39mraise\u001b[39;00m \u001b[39mTypeError\u001b[39;00m(\u001b[39m'\u001b[39m\u001b[39m{!r}\u001b[39;00m\u001b[39m is not a callable object\u001b[39m\u001b[39m'\u001b[39m\u001b[39m.\u001b[39mformat(obj))\n\u001b[1;32m   2397\u001b[0m \u001b[39mif\u001b[39;00m \u001b[39misinstance\u001b[39m(obj, types\u001b[39m.\u001b[39mMethodType):\n\u001b[1;32m   2398\u001b[0m     \u001b[39m# In this case we skip the first parameter of the underlying\u001b[39;00m\n\u001b[1;32m   2399\u001b[0m     \u001b[39m# function (usually `self` or `cls`).\u001b[39;00m\n",
      "\u001b[0;31mTypeError\u001b[0m: 'lol' is not a callable object",
      "\nThe above exception was the direct cause of the following exception:\n",
      "\u001b[0;31mTypeError\u001b[0m                                 Traceback (most recent call last)",
      "Cell \u001b[0;32mIn [47], line 40\u001b[0m\n\u001b[1;32m     38\u001b[0m \u001b[39mprint\u001b[39m(\u001b[39mtype\u001b[39m(attr_obj))\n\u001b[1;32m     39\u001b[0m \u001b[39mprint\u001b[39m(inspect\u001b[39m.\u001b[39misfunction(attr_obj))\n\u001b[0;32m---> 40\u001b[0m \u001b[39mif\u001b[39;00m \u001b[39m1\u001b[39m \u001b[39m!=\u001b[39m (num_params \u001b[39m:=\u001b[39m \u001b[39mlen\u001b[39m(inspect\u001b[39m.\u001b[39;49mgetfullargspec(attr_obj)\u001b[39m.\u001b[39margs)):\n\u001b[1;32m     41\u001b[0m     \u001b[39mraise\u001b[39;00m \u001b[39mValueError\u001b[39;00m(\n\u001b[1;32m     42\u001b[0m         \u001b[39mf\u001b[39m\u001b[39m\"\u001b[39m\u001b[39m'\u001b[39m\u001b[39m{\u001b[39;00mattr_name\u001b[39m}\u001b[39;00m\u001b[39m'\u001b[39m\u001b[39m must require exactly 1 positional argument for it to \u001b[39m\u001b[39m\"\u001b[39m\n\u001b[1;32m     43\u001b[0m         \u001b[39mf\u001b[39m\u001b[39m\"\u001b[39m\u001b[39mbe converted to a property. It\u001b[39m\u001b[39m'\u001b[39m\u001b[39ms defined to take \u001b[39m\u001b[39m{\u001b[39;00mnum_params\u001b[39m}\u001b[39;00m\u001b[39m.\u001b[39m\u001b[39m\"\u001b[39m\n\u001b[1;32m     44\u001b[0m     )\n\u001b[1;32m     45\u001b[0m \u001b[39mprint\u001b[39m(inspect\u001b[39m.\u001b[39mgetfullargspec(attr_obj)\u001b[39m.\u001b[39margs)\n",
      "File \u001b[0;32m/opt/homebrew/Cellar/python@3.10/3.10.8/Frameworks/Python.framework/Versions/3.10/lib/python3.10/inspect.py:1295\u001b[0m, in \u001b[0;36mgetfullargspec\u001b[0;34m(func)\u001b[0m\n\u001b[1;32m   1285\u001b[0m     sig \u001b[39m=\u001b[39m _signature_from_callable(func,\n\u001b[1;32m   1286\u001b[0m                                    follow_wrapper_chains\u001b[39m=\u001b[39m\u001b[39mFalse\u001b[39;00m,\n\u001b[1;32m   1287\u001b[0m                                    skip_bound_arg\u001b[39m=\u001b[39m\u001b[39mFalse\u001b[39;00m,\n\u001b[1;32m   1288\u001b[0m                                    sigcls\u001b[39m=\u001b[39mSignature,\n\u001b[1;32m   1289\u001b[0m                                    eval_str\u001b[39m=\u001b[39m\u001b[39mFalse\u001b[39;00m)\n\u001b[1;32m   1290\u001b[0m \u001b[39mexcept\u001b[39;00m \u001b[39mException\u001b[39;00m \u001b[39mas\u001b[39;00m ex:\n\u001b[1;32m   1291\u001b[0m     \u001b[39m# Most of the times 'signature' will raise ValueError.\u001b[39;00m\n\u001b[1;32m   1292\u001b[0m     \u001b[39m# But, it can also raise AttributeError, and, maybe something\u001b[39;00m\n\u001b[1;32m   1293\u001b[0m     \u001b[39m# else. So to be fully backwards compatible, we catch all\u001b[39;00m\n\u001b[1;32m   1294\u001b[0m     \u001b[39m# possible exceptions here, and reraise a TypeError.\u001b[39;00m\n\u001b[0;32m-> 1295\u001b[0m     \u001b[39mraise\u001b[39;00m \u001b[39mTypeError\u001b[39;00m(\u001b[39m'\u001b[39m\u001b[39munsupported callable\u001b[39m\u001b[39m'\u001b[39m) \u001b[39mfrom\u001b[39;00m \u001b[39mex\u001b[39;00m\n\u001b[1;32m   1297\u001b[0m args \u001b[39m=\u001b[39m []\n\u001b[1;32m   1298\u001b[0m varargs \u001b[39m=\u001b[39m \u001b[39mNone\u001b[39;00m\n",
      "\u001b[0;31mTypeError\u001b[0m: unsupported callable"
     ]
    }
   ],
   "source": [
    "import inspect\n",
    "import pandas as pd\n",
    "from numpy import NaN\n",
    "# from inject_attr import inject, Inject\n",
    "\n",
    "df = pd.DataFrame({'a': [1,2,3], 'b': [4,5,NaN], 'c': [10,20,30]})\n",
    "sr = pd.Series([1,2,3,4,5])\n",
    "\n",
    "@property\n",
    "def already_property(self):\n",
    "    return 'ryan'\n",
    "\n",
    "def not_property_valid(self=None):\n",
    "    return 'ryan'\n",
    "\n",
    "def not_property_invalid(self, text):\n",
    "    return 'ryan'\n",
    "\n",
    "@already_property.setter\n",
    "def not_property_invalid2(self):\n",
    "    return 'ryan'\n",
    "\n",
    "LOL = 'lol'\n",
    "\n",
    "class not_property_invalid3: ...\n",
    "\n",
    "# attr_obj, attr_name = already_property, 'already_property'\n",
    "# attr_obj, attr_name = not_property_valid, 'not_property_valid'\n",
    "# attr_obj, attr_name = not_property_invalid, 'not_property_invalid'\n",
    "# attr_obj = already_property\n",
    "# attr_obj = not_property_valid\n",
    "# attr_obj = not_property_invalid3\n",
    "# attr_obj = not_property_invalid3\n",
    "attr_obj = LOL\n",
    "\n",
    "if not isinstance(attr_obj, property):\n",
    "    print(callable(attr_obj))\n",
    "    print(type(attr_obj))\n",
    "    print(inspect.isfunction(attr_obj))\n",
    "    if 1 != (num_params := len(inspect.getfullargspec(attr_obj).args)):\n",
    "        raise ValueError(\n",
    "            f\"'{attr_name}' must require exactly 1 positional argument for it to \"\n",
    "            f\"be converted to a property. It's defined to take {num_params}.\"\n",
    "        )\n",
    "    print(inspect.getfullargspec(attr_obj).args)\n",
    "    print(type(attr_obj))\n",
    "    print(callable(attr_obj))\n",
    "    print(\"not property\")\n",
    "    attr_obj = property(attr_obj)\n",
    "    print(type(attr_obj))\n",
    "\n",
    "setattr(pd.DataFrame, 'foo', attr_obj)\n",
    "\n",
    "df.foo"
   ]
  },
  {
   "cell_type": "code",
   "execution_count": 5,
   "metadata": {},
   "outputs": [
    {
     "data": {
      "text/plain": [
       "type"
      ]
     },
     "execution_count": 5,
     "metadata": {},
     "output_type": "execute_result"
    }
   ],
   "source": [
    "class Test:\n",
    "    pass\n",
    "\n",
    "type(Test)"
   ]
  },
  {
   "cell_type": "code",
   "execution_count": 3,
   "metadata": {},
   "outputs": [
    {
     "data": {
      "text/plain": [
       "'hi'"
      ]
     },
     "execution_count": 3,
     "metadata": {},
     "output_type": "execute_result"
    }
   ],
   "source": [
    "df = pd.DataFrame()\n",
    "\n",
    "df.something()"
   ]
  },
  {
   "cell_type": "code",
   "execution_count": 6,
   "metadata": {},
   "outputs": [
    {
     "data": {
      "text/plain": [
       "'abc'"
      ]
     },
     "execution_count": 6,
     "metadata": {},
     "output_type": "execute_result"
    }
   ],
   "source": [
    "t = ('a', 'b', 'c')\n",
    "\"\".join(t)"
   ]
  },
  {
   "cell_type": "code",
   "execution_count": 1,
   "metadata": {},
   "outputs": [
    {
     "data": {
      "text/plain": [
       "('pandas.core.frame', 'hi')"
      ]
     },
     "execution_count": 1,
     "metadata": {},
     "output_type": "execute_result"
    }
   ],
   "source": [
    "import pandas as pd\n",
    "import inspect\n",
    "var = 'hi'\n",
    "\n",
    "key = (\n",
    "    module.__name__ if (module := inspect.getmodule(pd.DataFrame)) else None,\n",
    "    var\n",
    ")\n",
    "key"
   ]
  },
  {
   "cell_type": "code",
   "execution_count": 1,
   "metadata": {},
   "outputs": [
    {
     "ename": "TypeError",
     "evalue": "__bases__ assignment: 'Inject' deallocator differs from 'object'",
     "output_type": "error",
     "traceback": [
      "\u001b[0;31m---------------------------------------------------------------------------\u001b[0m",
      "\u001b[0;31mTypeError\u001b[0m                                 Traceback (most recent call last)",
      "Cell \u001b[0;32mIn [1], line 5\u001b[0m\n\u001b[1;32m      1\u001b[0m \u001b[39mfrom\u001b[39;00m \u001b[39minject_attr\u001b[39;00m \u001b[39mimport\u001b[39;00m inject, Inject\n\u001b[1;32m      2\u001b[0m \u001b[39mimport\u001b[39;00m \u001b[39mpandas\u001b[39;00m \u001b[39mas\u001b[39;00m \u001b[39mpd\u001b[39;00m\n\u001b[1;32m      4\u001b[0m \u001b[39m@inject\u001b[39;49m(pd\u001b[39m.\u001b[39;49mDataFrame)\n\u001b[0;32m----> 5\u001b[0m \u001b[39mclass\u001b[39;49;00m \u001b[39m_\u001b[39;49;00m:\n\u001b[1;32m      6\u001b[0m     \u001b[39mdef\u001b[39;49;00m \u001b[39msay_hello\u001b[39;49m(\u001b[39mself\u001b[39;49m):\n\u001b[1;32m      7\u001b[0m         \u001b[39mprint\u001b[39;49m(\u001b[39m\"\u001b[39;49m\u001b[39mhello\u001b[39;49m\u001b[39m\"\u001b[39;49m)\n",
      "File \u001b[0;32m~/Library/CloudStorage/OneDrive-EY/repo/crime-data-engineering/inject_attr.py:156\u001b[0m, in \u001b[0;36minject.<locals>.inner\u001b[0;34m(func)\u001b[0m\n\u001b[1;32m    153\u001b[0m         \u001b[39msetattr\u001b[39m(\u001b[39mcls\u001b[39m, func\u001b[39m.\u001b[39m\u001b[39m__name__\u001b[39m, func)\n\u001b[1;32m    154\u001b[0m \u001b[39melif\u001b[39;00m inspect\u001b[39m.\u001b[39misclass(func):\n\u001b[1;32m    155\u001b[0m     \u001b[39m# func = _(Inject, to=list(args))\u001b[39;00m\n\u001b[0;32m--> 156\u001b[0m     func\u001b[39m.\u001b[39;49m\u001b[39m__bases__\u001b[39;49m \u001b[39m=\u001b[39m (Inject,) \u001b[39m+\u001b[39m func\u001b[39m.\u001b[39m\u001b[39m__bases__\u001b[39m\n\u001b[1;32m    157\u001b[0m     \u001b[39m# Inject.__init_subclass__(to=list(args), overwrite=overwrite)\u001b[39;00m\n\u001b[1;32m    158\u001b[0m \u001b[39melse\u001b[39;00m:\n\u001b[1;32m    159\u001b[0m     \u001b[39mraise\u001b[39;00m \u001b[39mValueError\u001b[39;00m(\u001b[39m\"\u001b[39m\u001b[39mDon\u001b[39m\u001b[39m'\u001b[39m\u001b[39mt know how to handle this\u001b[39m\u001b[39m\"\u001b[39m)\n",
      "\u001b[0;31mTypeError\u001b[0m: __bases__ assignment: 'Inject' deallocator differs from 'object'"
     ]
    }
   ],
   "source": [
    "from inject_attr import inject, Inject\n",
    "import pandas as pd\n",
    "\n",
    "@inject(pd.DataFrame)\n",
    "class _:\n",
    "    def say_hello(self):\n",
    "        print(\"hello\")\n",
    "\n",
    "df = pd.DataFrame()\n",
    "\n",
    "df.say_hello()"
   ]
  }
 ],
 "metadata": {
  "kernelspec": {
   "display_name": "Python 3.10.8 64-bit",
   "language": "python",
   "name": "python3"
  },
  "language_info": {
   "codemirror_mode": {
    "name": "ipython",
    "version": 3
   },
   "file_extension": ".py",
   "mimetype": "text/x-python",
   "name": "python",
   "nbconvert_exporter": "python",
   "pygments_lexer": "ipython3",
   "version": "3.10.8"
  },
  "orig_nbformat": 4,
  "vscode": {
   "interpreter": {
    "hash": "908abd7e78fd4d71ba1be92795635fd82be5080a16e3cc7c1eae8bbfec458fa8"
   }
  }
 },
 "nbformat": 4,
 "nbformat_minor": 2
}
