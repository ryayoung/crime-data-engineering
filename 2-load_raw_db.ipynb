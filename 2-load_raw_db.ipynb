{
 "cells": [
  {
   "cell_type": "markdown",
   "metadata": {},
   "source": [
    "# Load data into sqlite\n",
    "---\n",
    "#### Note: by default, this will pull data directly from the source. Source dataset formatting can change at any time. If you encounter errors elsewhere in this pipeline, use backup data instead by setting `use_backup=True` below\n",
    "(edit: `use_backup` defaults to True)\n",
    "\n",
    "- With the Socrata ID and desired key name for all datasets:\n",
    "  - Format a request url with the ID\n",
    "  - Use `pd.read_csv()` to download the dataset into a dataframe.\n",
    "  - Insert the table into sql, using dictionary key as table name"
   ]
  },
  {
   "cell_type": "code",
   "execution_count": 2,
   "metadata": {},
   "outputs": [],
   "source": [
    "%run 1-workspace_setup.ipynb"
   ]
  },
  {
   "cell_type": "code",
   "execution_count": 2,
   "metadata": {},
   "outputs": [],
   "source": [
    "use_backup = True"
   ]
  },
  {
   "cell_type": "code",
   "execution_count": 3,
   "metadata": {},
   "outputs": [],
   "source": [
    "dataset_info = {\n",
    "    'districts': 'mm2p-ag5w',\n",
    "    'counties': 'ahgn-r8s5',\n",
    "    'census_counties_2012': 'f4n4-vnyx',\n",
    "    'census_counties_2013': 'm3j7-raj9',\n",
    "    'census_counties_2014': 'wshk-29g7',\n",
    "    'census_counties_2015': 't48m-528x',\n",
    "    'census_counties_2016': 'eghh-ua8y',\n",
    "    'census_counties_2017': 'ewkj-ipn7',\n",
    "    'census_counties_2018': 'xum2-smvh',\n",
    "    'census_counties_2019': '8j3i-rjn4',\n",
    "    'census_counties_field_desc': 'qten-sdpn',\n",
    "    'county_population': 'eeah-cmy8',\n",
    "    'crime_16_19': 'j6g4-gayk',\n",
    "    'crime_97_15': '6vnq-az4b',\n",
    "    'dist_grad_rate': 'cfyh-6xxg',\n",
    "    'dist_mobility_demographics': 'rg84-k4d3',\n",
    "    'dist_student_mobility': '6wcd-ysh5',\n",
    "}"
   ]
  },
  {
   "cell_type": "code",
   "execution_count": 3,
   "metadata": {},
   "outputs": [],
   "source": [
    "format_url = lambda id: f'https://data.colorado.gov/api/views/{id}/rows.csv?accessType=DOWNLOAD'\n",
    "backup_file_fmt = lambda name: f\"backup/{name}.parquet.gzip\"\n",
    "\n",
    "\n",
    "def query(txt: str, con: str) -> list:\n",
    "    cur = sql[con]['con']().cursor()\n",
    "    return cur.execute(txt).fetchall()\n",
    "\n",
    "\n",
    "def table_exists(con: str, name):\n",
    "    c = sql[con]['con']().cursor()\n",
    "                \n",
    "    # get the count of tables with the name\n",
    "    c.execute(f\"\"\"\n",
    "    SELECT\n",
    "        count(name)\n",
    "    FROM sqlite_master\n",
    "    WHERE type='table'\n",
    "        AND name='{name}'\n",
    "    \"\"\")\n",
    "\n",
    "    # if the count is 1, then table exists\n",
    "    if c.fetchone()[0] == 1:\n",
    "        return True\n",
    "    return False"
   ]
  },
  {
   "cell_type": "markdown",
   "metadata": {},
   "source": [
    "## Load tables and write to raw"
   ]
  },
  {
   "cell_type": "code",
   "execution_count": 5,
   "metadata": {},
   "outputs": [],
   "source": [
    "for name, id in dataset_info.items():\n",
    "    if table_exists('raw', name):\n",
    "        continue\n",
    "    if use_backup == True:\n",
    "        df = pd.read_parquet(backup_file_fmt(name))\n",
    "    else:\n",
    "        df = pd.read_csv(format_url(id))\n",
    "    write_raw(df, name)"
   ]
  },
  {
   "cell_type": "markdown",
   "metadata": {},
   "source": [
    "## See tables in raw and main"
   ]
  },
  {
   "cell_type": "code",
   "execution_count": 6,
   "metadata": {},
   "outputs": [
    {
     "name": "stdout",
     "output_type": "stream",
     "text": [
      "RAW:\n",
      "districts\n",
      "counties\n",
      "census_counties_2012\n",
      "census_counties_2013\n",
      "census_counties_2014\n",
      "census_counties_2015\n",
      "census_counties_2016\n",
      "census_counties_2017\n",
      "census_counties_2018\n",
      "census_counties_2019\n",
      "census_counties_field_desc\n",
      "county_population\n",
      "crime_16_19\n",
      "crime_97_15\n",
      "dist_grad_rate\n",
      "dist_mobility_demographics\n",
      "dist_student_mobility\n",
      "\n",
      "MAIN:\n",
      "\n"
     ]
    }
   ],
   "source": [
    "raw_tables = query('''SELECT name FROM sqlite_master WHERE type='table';''', con='raw')\n",
    "main_tables = query('''SELECT name FROM sqlite_master WHERE type='table';''', con='main')\n",
    "\n",
    "print(\"RAW:\")\n",
    "print(*[t[0] for t in raw_tables], sep='\\n')\n",
    "print(\"\\nMAIN:\")\n",
    "print(*[t[0] for t in main_tables], sep='\\n')"
   ]
  },
  {
   "cell_type": "markdown",
   "metadata": {},
   "source": [
    "### Save to backup?"
   ]
  },
  {
   "cell_type": "code",
   "execution_count": 7,
   "metadata": {},
   "outputs": [],
   "source": [
    "def save_raw_data_to_backup():\n",
    "    \"\"\"\n",
    "    No need to use this unless you want to backup current\n",
    "    state of raw datasets as parquet files\n",
    "    \"\"\"\n",
    "    for name in dataset_info.keys():\n",
    "        df = read_raw(name)\n",
    "        df.to_parquet(backup_file_fmt(name), compression='gzip', index=False)\n",
    "\n",
    "# save_raw_data_to_backup()"
   ]
  },
  {
   "cell_type": "markdown",
   "metadata": {},
   "source": [
    "### Clear databases"
   ]
  },
  {
   "cell_type": "code",
   "execution_count": null,
   "metadata": {},
   "outputs": [],
   "source": [
    "def empty_raw():\n",
    "    raw_tables = query(\"SELECT name FROM sqlite_master WHERE type='table'\", con='raw')\n",
    "    con = get_con_raw()\n",
    "    cur = con.cursor()\n",
    "    for name in raw_tables:\n",
    "        print(name[0])\n",
    "        cur.execute(f\"DROP TABLE IF EXISTS {name[0]}\")\n",
    "    con.commit()\n",
    "    cur.execute(\"VACUUM;\")\n",
    "\n",
    "# empty_raw()"
   ]
  },
  {
   "cell_type": "code",
   "execution_count": null,
   "metadata": {},
   "outputs": [],
   "source": [
    "def empty_main():\n",
    "    main_tables = query(\"SELECT name FROM sqlite_master WHERE type='table'\", con='main')\n",
    "    con = get_con_main()\n",
    "    cur = con.cursor()\n",
    "    for name in main_tables:\n",
    "        print(name[0])\n",
    "        cur.execute(f\"DROP TABLE IF EXISTS {name[0]}\")\n",
    "    con.commit()\n",
    "    cur.execute(\"VACUUM;\")\n",
    "\n",
    "# empty_main()"
   ]
  }
 ],
 "metadata": {
  "kernelspec": {
   "display_name": "Python 3.10.8 64-bit",
   "language": "python",
   "name": "python3"
  },
  "language_info": {
   "codemirror_mode": {
    "name": "ipython",
    "version": 3
   },
   "file_extension": ".py",
   "mimetype": "text/x-python",
   "name": "python",
   "nbconvert_exporter": "python",
   "pygments_lexer": "ipython3",
   "version": "3.10.8"
  },
  "orig_nbformat": 4,
  "vscode": {
   "interpreter": {
    "hash": "908abd7e78fd4d71ba1be92795635fd82be5080a16e3cc7c1eae8bbfec458fa8"
   }
  }
 },
 "nbformat": 4,
 "nbformat_minor": 2
}
