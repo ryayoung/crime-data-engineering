{
 "cells": [
  {
   "cell_type": "code",
   "execution_count": 1,
   "metadata": {},
   "outputs": [],
   "source": [
    "from copy import deepcopy\n",
    "\"\"\"\n",
    "See the bug below\n",
    "\"\"\"\n",
    "class ExistingAttributeError(Exception):\n",
    "    pass\n",
    "\n",
    "class Inject:\n",
    "    cache = []\n",
    "\n",
    "    def __init__(self, *args, **kwargs):\n",
    "        raise ValueError(\"Do not create an instance of this class\")\n",
    "\n",
    "    def __init_subclass__(\n",
    "                cls,\n",
    "                *,\n",
    "                to: list or any,\n",
    "                for_package: any or None = None,\n",
    "                overwrite:bool = False\n",
    "            ):\n",
    "\n",
    "        if not isinstance(to, list):\n",
    "            to = [to]\n",
    "\n",
    "        attrs = [\n",
    "                    (k,v) for k,v in cls.__dict__.items()\n",
    "                if k not in ['__module__', '__doc__']\n",
    "            ]\n",
    "\n",
    "        for name, attr in attrs:\n",
    "            for target in to:\n",
    "                if overwrite == False and hasattr(target, name) and name not in Inject.cache:\n",
    "                    raise ExistingAttributeError(\n",
    "                            f\"Class '{target.__name__}' already has attribute, '{name}'. \"\n",
    "                            \"Pass `overwrite = True` to avoid this error.\"\n",
    "                        )\n",
    "                setattr(target, name, attr)\n",
    "                Inject.cache.append(name)\n",
    "                if for_package:\n",
    "                    def temp(obj, *args, **kwargs):\n",
    "                        return getattr(obj, name)(*args, **kwargs)\n",
    "                    setattr(for_package, name, deepcopy(temp))\n",
    "                delattr(cls, name)"
   ]
  },
  {
   "cell_type": "code",
   "execution_count": 2,
   "metadata": {},
   "outputs": [],
   "source": [
    "import pandas as pd"
   ]
  },
  {
   "cell_type": "code",
   "execution_count": 3,
   "metadata": {},
   "outputs": [],
   "source": [
    "class _(Inject, to=pd.DataFrame, for_package=pd):\n",
    "    \n",
    "    def show_cols(self):\n",
    "        return list(self.columns)\n",
    "\n",
    "    def column_list_combined(self, other_df):\n",
    "        return list(list(self.columns) + list(other_df.columns))"
   ]
  },
  {
   "cell_type": "code",
   "execution_count": 4,
   "metadata": {},
   "outputs": [],
   "source": [
    "df1 = pd.DataFrame({'a': [], 'b': []})\n",
    "df2 = pd.DataFrame({'c': [], 'd': []})\n",
    "\n",
    "# df1.column_list_combined(df2)"
   ]
  },
  {
   "cell_type": "code",
   "execution_count": 5,
   "metadata": {},
   "outputs": [
    {
     "ename": "TypeError",
     "evalue": "_.column_list_combined() missing 1 required positional argument: 'other_df'",
     "output_type": "error",
     "traceback": [
      "\u001b[0;31m---------------------------------------------------------------------------\u001b[0m",
      "\u001b[0;31mTypeError\u001b[0m                                 Traceback (most recent call last)",
      "Cell \u001b[0;32mIn [5], line 1\u001b[0m\n\u001b[0;32m----> 1\u001b[0m pd\u001b[39m.\u001b[39;49mshow_cols(df1)\n",
      "Cell \u001b[0;32mIn [1], line 41\u001b[0m, in \u001b[0;36mInject.__init_subclass__.<locals>.temp\u001b[0;34m(obj, *args, **kwargs)\u001b[0m\n\u001b[1;32m     40\u001b[0m \u001b[39mdef\u001b[39;00m \u001b[39mtemp\u001b[39m(obj, \u001b[39m*\u001b[39margs, \u001b[39m*\u001b[39m\u001b[39m*\u001b[39mkwargs):\n\u001b[0;32m---> 41\u001b[0m     \u001b[39mreturn\u001b[39;00m \u001b[39mgetattr\u001b[39;49m(obj, name)(\u001b[39m*\u001b[39;49margs, \u001b[39m*\u001b[39;49m\u001b[39m*\u001b[39;49mkwargs)\n",
      "\u001b[0;31mTypeError\u001b[0m: _.column_list_combined() missing 1 required positional argument: 'other_df'"
     ]
    }
   ],
   "source": [
    "pd.show_cols(df1)"
   ]
  },
  {
   "cell_type": "code",
   "execution_count": null,
   "metadata": {},
   "outputs": [
    {
     "name": "stdout",
     "output_type": "stream",
     "text": [
      "hihey\n"
     ]
    }
   ],
   "source": [
    "pd.say_hi(df, \"hey\")"
   ]
  }
 ],
 "metadata": {
  "kernelspec": {
   "display_name": "Python 3.10.8 64-bit",
   "language": "python",
   "name": "python3"
  },
  "language_info": {
   "codemirror_mode": {
    "name": "ipython",
    "version": 3
   },
   "file_extension": ".py",
   "mimetype": "text/x-python",
   "name": "python",
   "nbconvert_exporter": "python",
   "pygments_lexer": "ipython3",
   "version": "3.10.8"
  },
  "orig_nbformat": 4,
  "vscode": {
   "interpreter": {
    "hash": "908abd7e78fd4d71ba1be92795635fd82be5080a16e3cc7c1eae8bbfec458fa8"
   }
  }
 },
 "nbformat": 4,
 "nbformat_minor": 2
}
