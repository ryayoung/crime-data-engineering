{
 "cells": [
  {
   "cell_type": "markdown",
   "metadata": {},
   "source": [
    "# Reference tables: `county` and `district`\n",
    "---\n",
    "- Standardize key to reference with other tables in the future\n",
    "- Store additional info for each county and district\n",
    "- Use **Google Maps V3 API** to collect geographic points for the center of each county and district"
   ]
  },
  {
   "cell_type": "code",
   "execution_count": 5,
   "metadata": {},
   "outputs": [],
   "source": [
    "%run 1-workspace_setup.ipynb"
   ]
  },
  {
   "cell_type": "markdown",
   "metadata": {},
   "source": [
    "## School Districts\n",
    "- This will be difficult. There is no standard naming convention for districts, and many datasets have typos.\n",
    "- Also, geo borders and address info are found in two different datasets (which, of course, use different naming conventions for districts)\n",
    "- The `dist_grad_rate` dataset is the only one we've found which provides a county for each school district"
   ]
  },
  {
   "cell_type": "code",
   "execution_count": 6,
   "metadata": {},
   "outputs": [
    {
     "ename": "DatabaseError",
     "evalue": "Execution failed on sql 'SELECT * FROM districts ': no such table: districts",
     "output_type": "error",
     "traceback": [
      "\u001b[0;31m---------------------------------------------------------------------------\u001b[0m",
      "\u001b[0;31mOperationalError\u001b[0m                          Traceback (most recent call last)",
      "File \u001b[0;32m/opt/homebrew/lib/python3.10/site-packages/pandas/io/sql.py:2018\u001b[0m, in \u001b[0;36mSQLiteDatabase.execute\u001b[0;34m(self, *args, **kwargs)\u001b[0m\n\u001b[1;32m   2017\u001b[0m \u001b[39mtry\u001b[39;00m:\n\u001b[0;32m-> 2018\u001b[0m     cur\u001b[39m.\u001b[39;49mexecute(\u001b[39m*\u001b[39;49margs, \u001b[39m*\u001b[39;49m\u001b[39m*\u001b[39;49mkwargs)\n\u001b[1;32m   2019\u001b[0m     \u001b[39mreturn\u001b[39;00m cur\n",
      "\u001b[0;31mOperationalError\u001b[0m: no such table: districts",
      "\nThe above exception was the direct cause of the following exception:\n",
      "\u001b[0;31mDatabaseError\u001b[0m                             Traceback (most recent call last)",
      "Cell \u001b[0;32mIn [6], line 2\u001b[0m\n\u001b[1;32m      1\u001b[0m head(\n\u001b[0;32m----> 2\u001b[0m     read_raw(\u001b[39m'\u001b[39;49m\u001b[39mdistricts\u001b[39;49m\u001b[39m'\u001b[39;49m),\n\u001b[1;32m      3\u001b[0m     \u001b[39m# read_raw('dist_grad_rate')\u001b[39;00m\n\u001b[1;32m      4\u001b[0m )\n",
      "File \u001b[0;32m/var/folders/3k/922xfjks4_l3qwmw3swy6zjr0000gq/T/ipykernel_59185/3565609186.py:1\u001b[0m, in \u001b[0;36m<lambda>\u001b[0;34m(*args, **kwargs)\u001b[0m\n\u001b[0;32m----> 1\u001b[0m read_raw \u001b[39m=\u001b[39m \u001b[39mlambda\u001b[39;00m \u001b[39m*\u001b[39margs, \u001b[39m*\u001b[39m\u001b[39m*\u001b[39mkwargs: _read_sql(\u001b[39m*\u001b[39;49margs, \u001b[39m*\u001b[39;49m\u001b[39m*\u001b[39;49mkwargs, con\u001b[39m=\u001b[39;49m\u001b[39m'\u001b[39;49m\u001b[39mraw\u001b[39;49m\u001b[39m'\u001b[39;49m)\n\u001b[1;32m      2\u001b[0m read_main \u001b[39m=\u001b[39m \u001b[39mlambda\u001b[39;00m \u001b[39m*\u001b[39margs, \u001b[39m*\u001b[39m\u001b[39m*\u001b[39mkwargs: _read_sql(\u001b[39m*\u001b[39margs, \u001b[39m*\u001b[39m\u001b[39m*\u001b[39mkwargs, con\u001b[39m=\u001b[39m\u001b[39m'\u001b[39m\u001b[39mmain\u001b[39m\u001b[39m'\u001b[39m)\n\u001b[1;32m      3\u001b[0m \u001b[39mdef\u001b[39;00m \u001b[39mwrite_raw\u001b[39m(\u001b[39m*\u001b[39margs, \u001b[39m*\u001b[39m\u001b[39m*\u001b[39mkwargs):\n",
      "File \u001b[0;32m/var/folders/3k/922xfjks4_l3qwmw3swy6zjr0000gq/T/ipykernel_59185/2139494583.py:58\u001b[0m, in \u001b[0;36m_read_sql\u001b[0;34m(con, *args, **kwargs)\u001b[0m\n\u001b[1;32m     55\u001b[0m \u001b[39mif\u001b[39;00m (cached \u001b[39m:=\u001b[39m sql[con][\u001b[39m'\u001b[39m\u001b[39mcache\u001b[39m\u001b[39m'\u001b[39m]\u001b[39m.\u001b[39mget(query, \u001b[39mNone\u001b[39;00m)) \u001b[39mis\u001b[39;00m \u001b[39mnot\u001b[39;00m \u001b[39mNone\u001b[39;00m:\n\u001b[1;32m     56\u001b[0m     \u001b[39mreturn\u001b[39;00m cached\u001b[39m.\u001b[39mcopy()\n\u001b[0;32m---> 58\u001b[0m df \u001b[39m=\u001b[39m sql[con][\u001b[39m'\u001b[39m\u001b[39mcache\u001b[39m\u001b[39m'\u001b[39m][query] \u001b[39m=\u001b[39m pd\u001b[39m.\u001b[39;49mread_sql(query, con\u001b[39m=\u001b[39;49msql[con][\u001b[39m'\u001b[39;49m\u001b[39mcon\u001b[39;49m\u001b[39m'\u001b[39;49m])\n\u001b[1;32m     59\u001b[0m \u001b[39mreturn\u001b[39;00m df\n",
      "File \u001b[0;32m/opt/homebrew/lib/python3.10/site-packages/pandas/io/sql.py:564\u001b[0m, in \u001b[0;36mread_sql\u001b[0;34m(sql, con, index_col, coerce_float, params, parse_dates, columns, chunksize)\u001b[0m\n\u001b[1;32m    561\u001b[0m pandas_sql \u001b[39m=\u001b[39m pandasSQL_builder(con)\n\u001b[1;32m    563\u001b[0m \u001b[39mif\u001b[39;00m \u001b[39misinstance\u001b[39m(pandas_sql, SQLiteDatabase):\n\u001b[0;32m--> 564\u001b[0m     \u001b[39mreturn\u001b[39;00m pandas_sql\u001b[39m.\u001b[39;49mread_query(\n\u001b[1;32m    565\u001b[0m         sql,\n\u001b[1;32m    566\u001b[0m         index_col\u001b[39m=\u001b[39;49mindex_col,\n\u001b[1;32m    567\u001b[0m         params\u001b[39m=\u001b[39;49mparams,\n\u001b[1;32m    568\u001b[0m         coerce_float\u001b[39m=\u001b[39;49mcoerce_float,\n\u001b[1;32m    569\u001b[0m         parse_dates\u001b[39m=\u001b[39;49mparse_dates,\n\u001b[1;32m    570\u001b[0m         chunksize\u001b[39m=\u001b[39;49mchunksize,\n\u001b[1;32m    571\u001b[0m     )\n\u001b[1;32m    573\u001b[0m \u001b[39mtry\u001b[39;00m:\n\u001b[1;32m    574\u001b[0m     _is_table_name \u001b[39m=\u001b[39m pandas_sql\u001b[39m.\u001b[39mhas_table(sql)\n",
      "File \u001b[0;32m/opt/homebrew/lib/python3.10/site-packages/pandas/io/sql.py:2078\u001b[0m, in \u001b[0;36mSQLiteDatabase.read_query\u001b[0;34m(self, sql, index_col, coerce_float, params, parse_dates, chunksize, dtype)\u001b[0m\n\u001b[1;32m   2066\u001b[0m \u001b[39mdef\u001b[39;00m \u001b[39mread_query\u001b[39m(\n\u001b[1;32m   2067\u001b[0m     \u001b[39mself\u001b[39m,\n\u001b[1;32m   2068\u001b[0m     sql,\n\u001b[0;32m   (...)\u001b[0m\n\u001b[1;32m   2074\u001b[0m     dtype: DtypeArg \u001b[39m|\u001b[39m \u001b[39mNone\u001b[39;00m \u001b[39m=\u001b[39m \u001b[39mNone\u001b[39;00m,\n\u001b[1;32m   2075\u001b[0m ) \u001b[39m-\u001b[39m\u001b[39m>\u001b[39m DataFrame \u001b[39m|\u001b[39m Iterator[DataFrame]:\n\u001b[1;32m   2077\u001b[0m     args \u001b[39m=\u001b[39m _convert_params(sql, params)\n\u001b[0;32m-> 2078\u001b[0m     cursor \u001b[39m=\u001b[39m \u001b[39mself\u001b[39;49m\u001b[39m.\u001b[39;49mexecute(\u001b[39m*\u001b[39;49margs)\n\u001b[1;32m   2079\u001b[0m     columns \u001b[39m=\u001b[39m [col_desc[\u001b[39m0\u001b[39m] \u001b[39mfor\u001b[39;00m col_desc \u001b[39min\u001b[39;00m cursor\u001b[39m.\u001b[39mdescription]\n\u001b[1;32m   2081\u001b[0m     \u001b[39mif\u001b[39;00m chunksize \u001b[39mis\u001b[39;00m \u001b[39mnot\u001b[39;00m \u001b[39mNone\u001b[39;00m:\n",
      "File \u001b[0;32m/opt/homebrew/lib/python3.10/site-packages/pandas/io/sql.py:2030\u001b[0m, in \u001b[0;36mSQLiteDatabase.execute\u001b[0;34m(self, *args, **kwargs)\u001b[0m\n\u001b[1;32m   2027\u001b[0m     \u001b[39mraise\u001b[39;00m ex \u001b[39mfrom\u001b[39;00m \u001b[39minner_exc\u001b[39;00m\n\u001b[1;32m   2029\u001b[0m ex \u001b[39m=\u001b[39m DatabaseError(\u001b[39mf\u001b[39m\u001b[39m\"\u001b[39m\u001b[39mExecution failed on sql \u001b[39m\u001b[39m'\u001b[39m\u001b[39m{\u001b[39;00margs[\u001b[39m0\u001b[39m]\u001b[39m}\u001b[39;00m\u001b[39m'\u001b[39m\u001b[39m: \u001b[39m\u001b[39m{\u001b[39;00mexc\u001b[39m}\u001b[39;00m\u001b[39m\"\u001b[39m)\n\u001b[0;32m-> 2030\u001b[0m \u001b[39mraise\u001b[39;00m ex \u001b[39mfrom\u001b[39;00m \u001b[39mexc\u001b[39;00m\n",
      "\u001b[0;31mDatabaseError\u001b[0m: Execution failed on sql 'SELECT * FROM districts ': no such table: districts"
     ]
    }
   ],
   "source": [
    "head(\n",
    "    read_raw('districts'),\n",
    "    # read_raw('dist_grad_rate')\n",
    ")"
   ]
  },
  {
   "cell_type": "code",
   "execution_count": 5,
   "metadata": {},
   "outputs": [
    {
     "name": "stdout",
     "output_type": "stream",
     "text": [
      "10 cols x 178 rows\n"
     ]
    },
    {
     "data": {
      "text/html": [
       "<div>\n",
       "<style scoped>\n",
       "    .dataframe tbody tr th:only-of-type {\n",
       "        vertical-align: middle;\n",
       "    }\n",
       "\n",
       "    .dataframe tbody tr th {\n",
       "        vertical-align: top;\n",
       "    }\n",
       "\n",
       "    .dataframe thead th {\n",
       "        text-align: right;\n",
       "    }\n",
       "</style>\n",
       "<table border=\"1\" class=\"dataframe\">\n",
       "  <thead>\n",
       "    <tr style=\"text-align: right;\">\n",
       "      <th></th>\n",
       "      <th>district</th>\n",
       "      <th>geo_border</th>\n",
       "      <th>gid</th>\n",
       "      <th>lgid</th>\n",
       "      <th>id</th>\n",
       "      <th>street</th>\n",
       "      <th>city</th>\n",
       "      <th>state</th>\n",
       "      <th>zip</th>\n",
       "      <th>url</th>\n",
       "    </tr>\n",
       "  </thead>\n",
       "  <tbody>\n",
       "    <tr>\n",
       "      <th>0</th>\n",
       "      <td>Buena Vista R-31 School District</td>\n",
       "      <td>MULTIPOLYGON (((-106.59904239399998 39.0362792...</td>\n",
       "      <td>443</td>\n",
       "      <td>8900</td>\n",
       "      <td>1793</td>\n",
       "      <td>PO Box 2027</td>\n",
       "      <td>Buena Vista</td>\n",
       "      <td>CO</td>\n",
       "      <td>81211</td>\n",
       "      <td>www.bvschools.org</td>\n",
       "    </tr>\n",
       "    <tr>\n",
       "      <th>1</th>\n",
       "      <td>Burlington RE-6J School District</td>\n",
       "      <td>MULTIPOLYGON (((-102.43672348799998 39.5852515...</td>\n",
       "      <td>444</td>\n",
       "      <td>64929</td>\n",
       "      <td>217</td>\n",
       "      <td>PO Box 369</td>\n",
       "      <td>Burlington</td>\n",
       "      <td>CO</td>\n",
       "      <td>80807</td>\n",
       "      <td>www.burlingtonk12.org</td>\n",
       "    </tr>\n",
       "    <tr>\n",
       "      <th>2</th>\n",
       "      <td>Byers 32J School District</td>\n",
       "      <td>MULTIPOLYGON (((-104.28505092499995 39.5649584...</td>\n",
       "      <td>445</td>\n",
       "      <td>64908</td>\n",
       "      <td>857</td>\n",
       "      <td>444 East Front Street</td>\n",
       "      <td>Byers</td>\n",
       "      <td>CO</td>\n",
       "      <td>80103</td>\n",
       "      <td>byers32j.k12.co.us</td>\n",
       "    </tr>\n",
       "  </tbody>\n",
       "</table>\n",
       "</div>"
      ],
      "text/plain": [
       "                           district  \\\n",
       "0  Buena Vista R-31 School District   \n",
       "1  Burlington RE-6J School District   \n",
       "2         Byers 32J School District   \n",
       "\n",
       "                                          geo_border  gid   lgid    id  \\\n",
       "0  MULTIPOLYGON (((-106.59904239399998 39.0362792...  443   8900  1793   \n",
       "1  MULTIPOLYGON (((-102.43672348799998 39.5852515...  444  64929   217   \n",
       "2  MULTIPOLYGON (((-104.28505092499995 39.5649584...  445  64908   857   \n",
       "\n",
       "                  street         city state    zip                    url  \n",
       "0            PO Box 2027  Buena Vista    CO  81211      www.bvschools.org  \n",
       "1             PO Box 369   Burlington    CO  80807  www.burlingtonk12.org  \n",
       "2  444 East Front Street        Byers    CO  80103     byers32j.k12.co.us  "
      ]
     },
     "metadata": {},
     "output_type": "display_data"
    }
   ],
   "source": [
    "dist_info = read_raw(\"\"\"\n",
    "    abbrev_nam AS district,\n",
    "    the_geom AS geo_border,\n",
    "    gid,\n",
    "    lgid,\n",
    "    id,\n",
    "    mail_addre AS street,\n",
    "    mail_city AS city,\n",
    "    mail_state AS state,\n",
    "    mail_zip AS zip,\n",
    "    url\n",
    "\"\"\",\n",
    "FROM='districts'\n",
    ")\n",
    "head(dist_info)"
   ]
  },
  {
   "cell_type": "code",
   "execution_count": 6,
   "metadata": {},
   "outputs": [
    {
     "name": "stdout",
     "output_type": "stream",
     "text": [
      "3 cols x 183 rows\n"
     ]
    },
    {
     "data": {
      "text/html": [
       "<div>\n",
       "<style scoped>\n",
       "    .dataframe tbody tr th:only-of-type {\n",
       "        vertical-align: middle;\n",
       "    }\n",
       "\n",
       "    .dataframe tbody tr th {\n",
       "        vertical-align: top;\n",
       "    }\n",
       "\n",
       "    .dataframe thead th {\n",
       "        text-align: right;\n",
       "    }\n",
       "</style>\n",
       "<table border=\"1\" class=\"dataframe\">\n",
       "  <thead>\n",
       "    <tr style=\"text-align: right;\">\n",
       "      <th></th>\n",
       "      <th>district</th>\n",
       "      <th>code</th>\n",
       "      <th>in_county</th>\n",
       "    </tr>\n",
       "  </thead>\n",
       "  <tbody>\n",
       "    <tr>\n",
       "      <th>0</th>\n",
       "      <td>MAPLETON 1</td>\n",
       "      <td>10</td>\n",
       "      <td>ADAMS</td>\n",
       "    </tr>\n",
       "    <tr>\n",
       "      <th>1</th>\n",
       "      <td>ADAMS 12 FIVE STAR SCHOOLS</td>\n",
       "      <td>20</td>\n",
       "      <td>ADAMS</td>\n",
       "    </tr>\n",
       "    <tr>\n",
       "      <th>2</th>\n",
       "      <td>ADAMS COUNTY 14</td>\n",
       "      <td>30</td>\n",
       "      <td>ADAMS</td>\n",
       "    </tr>\n",
       "  </tbody>\n",
       "</table>\n",
       "</div>"
      ],
      "text/plain": [
       "                     district  code in_county\n",
       "0                  MAPLETON 1    10     ADAMS\n",
       "1  ADAMS 12 FIVE STAR SCHOOLS    20     ADAMS\n",
       "2             ADAMS COUNTY 14    30     ADAMS"
      ]
     },
     "metadata": {},
     "output_type": "display_data"
    }
   ],
   "source": [
    "dist_county = read_raw(\"\"\"\n",
    "    `Organization Name` AS district,\n",
    "    `Organization Code` AS code,\n",
    "    `County Name` AS in_county\n",
    "\"\"\",\n",
    "FROM=\"dist_grad_rate\",\n",
    "WHERE=\"district != 'STATE TOTAL'\"\n",
    ")\n",
    "head(dist_county)"
   ]
  },
  {
   "cell_type": "markdown",
   "metadata": {},
   "source": [
    "## Standardize district naming conventions\n",
    "---"
   ]
  },
  {
   "cell_type": "code",
   "execution_count": 7,
   "metadata": {},
   "outputs": [
    {
     "data": {
      "text/html": [
       "<div>\n",
       "<style scoped>\n",
       "    .dataframe tbody tr th:only-of-type {\n",
       "        vertical-align: middle;\n",
       "    }\n",
       "\n",
       "    .dataframe tbody tr th {\n",
       "        vertical-align: top;\n",
       "    }\n",
       "\n",
       "    .dataframe thead th {\n",
       "        text-align: right;\n",
       "    }\n",
       "</style>\n",
       "<table border=\"1\" class=\"dataframe\">\n",
       "  <thead>\n",
       "    <tr style=\"text-align: right;\">\n",
       "      <th></th>\n",
       "      <th>0</th>\n",
       "      <th>1</th>\n",
       "    </tr>\n",
       "  </thead>\n",
       "  <tbody>\n",
       "    <tr>\n",
       "      <th>0</th>\n",
       "      <td>None</td>\n",
       "      <td>CENTENNIALBOCES</td>\n",
       "    </tr>\n",
       "    <tr>\n",
       "      <th>1</th>\n",
       "      <td>None</td>\n",
       "      <td>CHARTERSCHOOLINSTITUTE</td>\n",
       "    </tr>\n",
       "    <tr>\n",
       "      <th>2</th>\n",
       "      <td>None</td>\n",
       "      <td>EXPEDITIONARYBOCES</td>\n",
       "    </tr>\n",
       "    <tr>\n",
       "      <th>3</th>\n",
       "      <td>None</td>\n",
       "      <td>MOUNTAINBOCES</td>\n",
       "    </tr>\n",
       "    <tr>\n",
       "      <th>4</th>\n",
       "      <td>None</td>\n",
       "      <td>SANJUANBOCES</td>\n",
       "    </tr>\n",
       "  </tbody>\n",
       "</table>\n",
       "</div>"
      ],
      "text/plain": [
       "      0                       1\n",
       "0  None         CENTENNIALBOCES\n",
       "1  None  CHARTERSCHOOLINSTITUTE\n",
       "2  None      EXPEDITIONARYBOCES\n",
       "3  None           MOUNTAINBOCES\n",
       "4  None            SANJUANBOCES"
      ]
     },
     "execution_count": 7,
     "metadata": {},
     "output_type": "execute_result"
    }
   ],
   "source": [
    "# standardize_district_name and join_conflicts defined in workspace setup\n",
    "dist_info.district = dist_info.district.apply(standardize_district_name)\n",
    "dist_county.district = dist_county.district.apply(standardize_district_name)\n",
    "\n",
    "# See keys that aren't shared\n",
    "dist_diff = join_conflicts(dist_info, dist_county, 'district')\n",
    "dist_diff"
   ]
  },
  {
   "cell_type": "markdown",
   "metadata": {},
   "source": [
    "#### Some districts have invalid counties listed. Fix it"
   ]
  },
  {
   "cell_type": "code",
   "execution_count": 8,
   "metadata": {},
   "outputs": [],
   "source": [
    "dist_to_county_map = {\n",
    "    # Where district == key, set county to val\n",
    "    'CUSTERCOUNTY 1': 'CUSTER',\n",
    "    'CHARTERSCHOOLINSTITUTE': 'DENVER',\n",
    "    'MOUNTAINBOCES': 'CHAFFEE',\n",
    "    'CENTENNIALBOCES': 'WELD',\n",
    "    'SANJUANBOCES': 'LA PLATA',\n",
    "    'EXPEDITIONARYBOCES': 'DENVER',\n",
    "}\n",
    "for dist_name, new_county_name in dist_to_county_map.items():\n",
    "    dist_county.loc[dist_county.district == dist_name, 'in_county'] = new_county_name"
   ]
  },
  {
   "cell_type": "markdown",
   "metadata": {},
   "source": [
    "### Merge district tables"
   ]
  },
  {
   "cell_type": "code",
   "execution_count": 9,
   "metadata": {},
   "outputs": [
    {
     "name": "stdout",
     "output_type": "stream",
     "text": [
      "12 cols x 183 rows\n"
     ]
    },
    {
     "data": {
      "text/html": [
       "<div>\n",
       "<style scoped>\n",
       "    .dataframe tbody tr th:only-of-type {\n",
       "        vertical-align: middle;\n",
       "    }\n",
       "\n",
       "    .dataframe tbody tr th {\n",
       "        vertical-align: top;\n",
       "    }\n",
       "\n",
       "    .dataframe thead th {\n",
       "        text-align: right;\n",
       "    }\n",
       "</style>\n",
       "<table border=\"1\" class=\"dataframe\">\n",
       "  <thead>\n",
       "    <tr style=\"text-align: right;\">\n",
       "      <th></th>\n",
       "      <th>district</th>\n",
       "      <th>code</th>\n",
       "      <th>in_county</th>\n",
       "      <th>geo_border</th>\n",
       "      <th>gid</th>\n",
       "      <th>lgid</th>\n",
       "      <th>id</th>\n",
       "      <th>street</th>\n",
       "      <th>city</th>\n",
       "      <th>state</th>\n",
       "      <th>zip</th>\n",
       "      <th>url</th>\n",
       "    </tr>\n",
       "  </thead>\n",
       "  <tbody>\n",
       "    <tr>\n",
       "      <th>0</th>\n",
       "      <td>MAPLETON 1</td>\n",
       "      <td>10</td>\n",
       "      <td>ADAMS</td>\n",
       "      <td>MULTIPOLYGON (((-105.01581612299998 39.8144774...</td>\n",
       "      <td>593.0</td>\n",
       "      <td>1900.0</td>\n",
       "      <td>2210.0</td>\n",
       "      <td>5910 East 80th Avenue</td>\n",
       "      <td>Denver</td>\n",
       "      <td>CO</td>\n",
       "      <td>80229</td>\n",
       "      <td>www.mapleton.us/</td>\n",
       "    </tr>\n",
       "    <tr>\n",
       "      <th>1</th>\n",
       "      <td>ADAMSFIVESTAR 12</td>\n",
       "      <td>20</td>\n",
       "      <td>ADAMS</td>\n",
       "      <td>MULTIPOLYGON (((-105.05310614499996 39.9302934...</td>\n",
       "      <td>648.0</td>\n",
       "      <td>1901.0</td>\n",
       "      <td>2211.0</td>\n",
       "      <td>1500 E 128th Avenue</td>\n",
       "      <td>Thornton</td>\n",
       "      <td>CO</td>\n",
       "      <td>80241</td>\n",
       "      <td>www.adams12.org</td>\n",
       "    </tr>\n",
       "    <tr>\n",
       "      <th>181</th>\n",
       "      <td>SANJUANBOCES</td>\n",
       "      <td>9050</td>\n",
       "      <td>LA PLATA</td>\n",
       "      <td>NaN</td>\n",
       "      <td>NaN</td>\n",
       "      <td>NaN</td>\n",
       "      <td>NaN</td>\n",
       "      <td>NaN</td>\n",
       "      <td>NaN</td>\n",
       "      <td>NaN</td>\n",
       "      <td>NaN</td>\n",
       "      <td>NaN</td>\n",
       "    </tr>\n",
       "    <tr>\n",
       "      <th>182</th>\n",
       "      <td>EXPEDITIONARYBOCES</td>\n",
       "      <td>9130</td>\n",
       "      <td>DENVER</td>\n",
       "      <td>NaN</td>\n",
       "      <td>NaN</td>\n",
       "      <td>NaN</td>\n",
       "      <td>NaN</td>\n",
       "      <td>NaN</td>\n",
       "      <td>NaN</td>\n",
       "      <td>NaN</td>\n",
       "      <td>NaN</td>\n",
       "      <td>NaN</td>\n",
       "    </tr>\n",
       "  </tbody>\n",
       "</table>\n",
       "</div>"
      ],
      "text/plain": [
       "               district  code in_county  \\\n",
       "0            MAPLETON 1    10     ADAMS   \n",
       "1      ADAMSFIVESTAR 12    20     ADAMS   \n",
       "181        SANJUANBOCES  9050  LA PLATA   \n",
       "182  EXPEDITIONARYBOCES  9130    DENVER   \n",
       "\n",
       "                                            geo_border    gid    lgid      id  \\\n",
       "0    MULTIPOLYGON (((-105.01581612299998 39.8144774...  593.0  1900.0  2210.0   \n",
       "1    MULTIPOLYGON (((-105.05310614499996 39.9302934...  648.0  1901.0  2211.0   \n",
       "181                                                NaN    NaN     NaN     NaN   \n",
       "182                                                NaN    NaN     NaN     NaN   \n",
       "\n",
       "                    street      city state    zip               url  \n",
       "0    5910 East 80th Avenue    Denver    CO  80229  www.mapleton.us/  \n",
       "1      1500 E 128th Avenue  Thornton    CO  80241   www.adams12.org  \n",
       "181                    NaN       NaN   NaN    NaN               NaN  \n",
       "182                    NaN       NaN   NaN    NaN               NaN  "
      ]
     },
     "metadata": {},
     "output_type": "display_data"
    }
   ],
   "source": [
    "district = dist_county.merge(dist_info, on='district', how='left')\n",
    "head(district, with_tail=True)"
   ]
  },
  {
   "cell_type": "markdown",
   "metadata": {},
   "source": [
    "## County"
   ]
  },
  {
   "cell_type": "code",
   "execution_count": 10,
   "metadata": {},
   "outputs": [
    {
     "name": "stdout",
     "output_type": "stream",
     "text": [
      "2 cols x 64 rows\n"
     ]
    },
    {
     "data": {
      "text/html": [
       "<div>\n",
       "<style scoped>\n",
       "    .dataframe tbody tr th:only-of-type {\n",
       "        vertical-align: middle;\n",
       "    }\n",
       "\n",
       "    .dataframe tbody tr th {\n",
       "        vertical-align: top;\n",
       "    }\n",
       "\n",
       "    .dataframe thead th {\n",
       "        text-align: right;\n",
       "    }\n",
       "</style>\n",
       "<table border=\"1\" class=\"dataframe\">\n",
       "  <thead>\n",
       "    <tr style=\"text-align: right;\">\n",
       "      <th></th>\n",
       "      <th>county</th>\n",
       "      <th>geo_border</th>\n",
       "    </tr>\n",
       "  </thead>\n",
       "  <tbody>\n",
       "    <tr>\n",
       "      <th>0</th>\n",
       "      <td>ADAMS</td>\n",
       "      <td>MULTIPOLYGON (((-103.70574149517748 39.9999110...</td>\n",
       "    </tr>\n",
       "    <tr>\n",
       "      <th>1</th>\n",
       "      <td>ALAMOSA</td>\n",
       "      <td>MULTIPOLYGON (((-105.59917426201822 37.7521648...</td>\n",
       "    </tr>\n",
       "    <tr>\n",
       "      <th>2</th>\n",
       "      <td>ARAPAHOE</td>\n",
       "      <td>MULTIPOLYGON (((-103.70653410023402 39.7398580...</td>\n",
       "    </tr>\n",
       "  </tbody>\n",
       "</table>\n",
       "</div>"
      ],
      "text/plain": [
       "     county                                         geo_border\n",
       "0     ADAMS  MULTIPOLYGON (((-103.70574149517748 39.9999110...\n",
       "1   ALAMOSA  MULTIPOLYGON (((-105.59917426201822 37.7521648...\n",
       "2  ARAPAHOE  MULTIPOLYGON (((-103.70653410023402 39.7398580..."
      ]
     },
     "metadata": {},
     "output_type": "display_data"
    }
   ],
   "source": [
    "county = read_raw(\"\"\"\n",
    "    COUNTY as county,\n",
    "    the_geom as geo_border\n",
    "\"\"\",\n",
    "FROM=\"counties\"\n",
    ")\n",
    "head(county)"
   ]
  },
  {
   "cell_type": "markdown",
   "metadata": {},
   "source": [
    "# Geocoding - Google Maps V3 API"
   ]
  },
  {
   "cell_type": "code",
   "execution_count": 11,
   "metadata": {},
   "outputs": [],
   "source": [
    "from geopy.geocoders import GoogleV3\n",
    "import geopandas as gp\n",
    "api_kwargs = dict(provider = 'google', api_key = 'NVmnFlQnc_MiOFcCoz7dwIFmVgq5f1zncXCdwJp')"
   ]
  },
  {
   "cell_type": "markdown",
   "metadata": {},
   "source": [
    "#### County"
   ]
  },
  {
   "cell_type": "code",
   "execution_count": 12,
   "metadata": {},
   "outputs": [
    {
     "name": "stdout",
     "output_type": "stream",
     "text": [
      "3 cols x 64 rows\n"
     ]
    },
    {
     "data": {
      "text/html": [
       "<div>\n",
       "<style scoped>\n",
       "    .dataframe tbody tr th:only-of-type {\n",
       "        vertical-align: middle;\n",
       "    }\n",
       "\n",
       "    .dataframe tbody tr th {\n",
       "        vertical-align: top;\n",
       "    }\n",
       "\n",
       "    .dataframe thead th {\n",
       "        text-align: right;\n",
       "    }\n",
       "</style>\n",
       "<table border=\"1\" class=\"dataframe\">\n",
       "  <thead>\n",
       "    <tr style=\"text-align: right;\">\n",
       "      <th></th>\n",
       "      <th>county</th>\n",
       "      <th>geo_border</th>\n",
       "      <th>geo_point</th>\n",
       "    </tr>\n",
       "  </thead>\n",
       "  <tbody>\n",
       "    <tr>\n",
       "      <th>0</th>\n",
       "      <td>ADAMS</td>\n",
       "      <td>MULTIPOLYGON (((-103.70574149517748 39.9999110...</td>\n",
       "      <td>GEOMETRYCOLLECTION EMPTY</td>\n",
       "    </tr>\n",
       "    <tr>\n",
       "      <th>1</th>\n",
       "      <td>ALAMOSA</td>\n",
       "      <td>MULTIPOLYGON (((-105.59917426201822 37.7521648...</td>\n",
       "      <td>GEOMETRYCOLLECTION EMPTY</td>\n",
       "    </tr>\n",
       "    <tr>\n",
       "      <th>2</th>\n",
       "      <td>ARAPAHOE</td>\n",
       "      <td>MULTIPOLYGON (((-103.70653410023402 39.7398580...</td>\n",
       "      <td>GEOMETRYCOLLECTION EMPTY</td>\n",
       "    </tr>\n",
       "  </tbody>\n",
       "</table>\n",
       "</div>"
      ],
      "text/plain": [
       "     county                                         geo_border  \\\n",
       "0     ADAMS  MULTIPOLYGON (((-103.70574149517748 39.9999110...   \n",
       "1   ALAMOSA  MULTIPOLYGON (((-105.59917426201822 37.7521648...   \n",
       "2  ARAPAHOE  MULTIPOLYGON (((-103.70653410023402 39.7398580...   \n",
       "\n",
       "                  geo_point  \n",
       "0  GEOMETRYCOLLECTION EMPTY  \n",
       "1  GEOMETRYCOLLECTION EMPTY  \n",
       "2  GEOMETRYCOLLECTION EMPTY  "
      ]
     },
     "metadata": {},
     "output_type": "display_data"
    }
   ],
   "source": [
    "try:\n",
    "    county['geo_point'] = (\n",
    "        gp.tools\n",
    "        .geocode(county.county.str.capitalize() + \" County, Colorado\", **api_kwargs)\n",
    "        ['geometry']\n",
    "        .astype(str)\n",
    "    )\n",
    "except Exception:\n",
    "    county['geo_point'] = np.nan\n",
    "head(county)"
   ]
  },
  {
   "cell_type": "code",
   "execution_count": 13,
   "metadata": {},
   "outputs": [
    {
     "data": {
      "text/plain": [
       "64"
      ]
     },
     "execution_count": 13,
     "metadata": {},
     "output_type": "execute_result"
    }
   ],
   "source": [
    "write_main(county, 'county')"
   ]
  },
  {
   "cell_type": "markdown",
   "metadata": {},
   "source": [
    "#### School District"
   ]
  },
  {
   "cell_type": "markdown",
   "metadata": {},
   "source": [
    "Add full address column for geocoder to use"
   ]
  },
  {
   "cell_type": "code",
   "execution_count": 14,
   "metadata": {},
   "outputs": [],
   "source": [
    "district.insert(0, 'address', (\n",
    "    district.loc[\n",
    "        ~ district.street.isna(),\n",
    "        ['street', 'city', 'state', 'zip']\n",
    "    ]\n",
    "    .agg(', '.join, axis=1)\n",
    "))"
   ]
  },
  {
   "cell_type": "code",
   "execution_count": 15,
   "metadata": {},
   "outputs": [
    {
     "name": "stdout",
     "output_type": "stream",
     "text": [
      "13 cols x 183 rows\n"
     ]
    },
    {
     "data": {
      "text/html": [
       "<div>\n",
       "<style scoped>\n",
       "    .dataframe tbody tr th:only-of-type {\n",
       "        vertical-align: middle;\n",
       "    }\n",
       "\n",
       "    .dataframe tbody tr th {\n",
       "        vertical-align: top;\n",
       "    }\n",
       "\n",
       "    .dataframe thead th {\n",
       "        text-align: right;\n",
       "    }\n",
       "</style>\n",
       "<table border=\"1\" class=\"dataframe\">\n",
       "  <thead>\n",
       "    <tr style=\"text-align: right;\">\n",
       "      <th></th>\n",
       "      <th>address</th>\n",
       "      <th>district</th>\n",
       "      <th>code</th>\n",
       "      <th>in_county</th>\n",
       "      <th>geo_border</th>\n",
       "      <th>gid</th>\n",
       "      <th>lgid</th>\n",
       "      <th>id</th>\n",
       "      <th>street</th>\n",
       "      <th>city</th>\n",
       "      <th>state</th>\n",
       "      <th>zip</th>\n",
       "      <th>url</th>\n",
       "    </tr>\n",
       "  </thead>\n",
       "  <tbody>\n",
       "    <tr>\n",
       "      <th>0</th>\n",
       "      <td>5910 East 80th Avenue, Denver, CO, 80229</td>\n",
       "      <td>MAPLETON 1</td>\n",
       "      <td>10</td>\n",
       "      <td>ADAMS</td>\n",
       "      <td>MULTIPOLYGON (((-105.01581612299998 39.8144774...</td>\n",
       "      <td>593.0</td>\n",
       "      <td>1900.0</td>\n",
       "      <td>2210.0</td>\n",
       "      <td>5910 East 80th Avenue</td>\n",
       "      <td>Denver</td>\n",
       "      <td>CO</td>\n",
       "      <td>80229</td>\n",
       "      <td>www.mapleton.us/</td>\n",
       "    </tr>\n",
       "    <tr>\n",
       "      <th>1</th>\n",
       "      <td>1500 E 128th Avenue, Thornton, CO, 80241</td>\n",
       "      <td>ADAMSFIVESTAR 12</td>\n",
       "      <td>20</td>\n",
       "      <td>ADAMS</td>\n",
       "      <td>MULTIPOLYGON (((-105.05310614499996 39.9302934...</td>\n",
       "      <td>648.0</td>\n",
       "      <td>1901.0</td>\n",
       "      <td>2211.0</td>\n",
       "      <td>1500 E 128th Avenue</td>\n",
       "      <td>Thornton</td>\n",
       "      <td>CO</td>\n",
       "      <td>80241</td>\n",
       "      <td>www.adams12.org</td>\n",
       "    </tr>\n",
       "    <tr>\n",
       "      <th>181</th>\n",
       "      <td>NaN</td>\n",
       "      <td>SANJUANBOCES</td>\n",
       "      <td>9050</td>\n",
       "      <td>LA PLATA</td>\n",
       "      <td>NaN</td>\n",
       "      <td>NaN</td>\n",
       "      <td>NaN</td>\n",
       "      <td>NaN</td>\n",
       "      <td>NaN</td>\n",
       "      <td>NaN</td>\n",
       "      <td>NaN</td>\n",
       "      <td>NaN</td>\n",
       "      <td>NaN</td>\n",
       "    </tr>\n",
       "    <tr>\n",
       "      <th>182</th>\n",
       "      <td>NaN</td>\n",
       "      <td>EXPEDITIONARYBOCES</td>\n",
       "      <td>9130</td>\n",
       "      <td>DENVER</td>\n",
       "      <td>NaN</td>\n",
       "      <td>NaN</td>\n",
       "      <td>NaN</td>\n",
       "      <td>NaN</td>\n",
       "      <td>NaN</td>\n",
       "      <td>NaN</td>\n",
       "      <td>NaN</td>\n",
       "      <td>NaN</td>\n",
       "      <td>NaN</td>\n",
       "    </tr>\n",
       "  </tbody>\n",
       "</table>\n",
       "</div>"
      ],
      "text/plain": [
       "                                      address            district  code  \\\n",
       "0    5910 East 80th Avenue, Denver, CO, 80229          MAPLETON 1    10   \n",
       "1    1500 E 128th Avenue, Thornton, CO, 80241    ADAMSFIVESTAR 12    20   \n",
       "181                                       NaN        SANJUANBOCES  9050   \n",
       "182                                       NaN  EXPEDITIONARYBOCES  9130   \n",
       "\n",
       "    in_county                                         geo_border    gid  \\\n",
       "0       ADAMS  MULTIPOLYGON (((-105.01581612299998 39.8144774...  593.0   \n",
       "1       ADAMS  MULTIPOLYGON (((-105.05310614499996 39.9302934...  648.0   \n",
       "181  LA PLATA                                                NaN    NaN   \n",
       "182    DENVER                                                NaN    NaN   \n",
       "\n",
       "       lgid      id                 street      city state    zip  \\\n",
       "0    1900.0  2210.0  5910 East 80th Avenue    Denver    CO  80229   \n",
       "1    1901.0  2211.0    1500 E 128th Avenue  Thornton    CO  80241   \n",
       "181     NaN     NaN                    NaN       NaN   NaN    NaN   \n",
       "182     NaN     NaN                    NaN       NaN   NaN    NaN   \n",
       "\n",
       "                  url  \n",
       "0    www.mapleton.us/  \n",
       "1     www.adams12.org  \n",
       "181               NaN  \n",
       "182               NaN  "
      ]
     },
     "metadata": {},
     "output_type": "display_data"
    }
   ],
   "source": [
    "head(district, with_tail=True)"
   ]
  },
  {
   "cell_type": "code",
   "execution_count": 16,
   "metadata": {},
   "outputs": [
    {
     "name": "stdout",
     "output_type": "stream",
     "text": [
      "13 cols x 183 rows\n"
     ]
    },
    {
     "data": {
      "text/html": [
       "<div>\n",
       "<style scoped>\n",
       "    .dataframe tbody tr th:only-of-type {\n",
       "        vertical-align: middle;\n",
       "    }\n",
       "\n",
       "    .dataframe tbody tr th {\n",
       "        vertical-align: top;\n",
       "    }\n",
       "\n",
       "    .dataframe thead th {\n",
       "        text-align: right;\n",
       "    }\n",
       "</style>\n",
       "<table border=\"1\" class=\"dataframe\">\n",
       "  <thead>\n",
       "    <tr style=\"text-align: right;\">\n",
       "      <th></th>\n",
       "      <th>district</th>\n",
       "      <th>code</th>\n",
       "      <th>in_county</th>\n",
       "      <th>geo_border</th>\n",
       "      <th>geo_point</th>\n",
       "      <th>gid</th>\n",
       "      <th>lgid</th>\n",
       "      <th>id</th>\n",
       "      <th>street</th>\n",
       "      <th>city</th>\n",
       "      <th>state</th>\n",
       "      <th>zip</th>\n",
       "      <th>url</th>\n",
       "    </tr>\n",
       "  </thead>\n",
       "  <tbody>\n",
       "    <tr>\n",
       "      <th>0</th>\n",
       "      <td>MAPLETON 1</td>\n",
       "      <td>10</td>\n",
       "      <td>ADAMS</td>\n",
       "      <td>MULTIPOLYGON (((-105.01581612299998 39.8144774...</td>\n",
       "      <td>GEOMETRYCOLLECTION EMPTY</td>\n",
       "      <td>593.0</td>\n",
       "      <td>1900.0</td>\n",
       "      <td>2210.0</td>\n",
       "      <td>5910 East 80th Avenue</td>\n",
       "      <td>Denver</td>\n",
       "      <td>CO</td>\n",
       "      <td>80229</td>\n",
       "      <td>www.mapleton.us/</td>\n",
       "    </tr>\n",
       "    <tr>\n",
       "      <th>1</th>\n",
       "      <td>ADAMSFIVESTAR 12</td>\n",
       "      <td>20</td>\n",
       "      <td>ADAMS</td>\n",
       "      <td>MULTIPOLYGON (((-105.05310614499996 39.9302934...</td>\n",
       "      <td>GEOMETRYCOLLECTION EMPTY</td>\n",
       "      <td>648.0</td>\n",
       "      <td>1901.0</td>\n",
       "      <td>2211.0</td>\n",
       "      <td>1500 E 128th Avenue</td>\n",
       "      <td>Thornton</td>\n",
       "      <td>CO</td>\n",
       "      <td>80241</td>\n",
       "      <td>www.adams12.org</td>\n",
       "    </tr>\n",
       "    <tr>\n",
       "      <th>181</th>\n",
       "      <td>SANJUANBOCES</td>\n",
       "      <td>9050</td>\n",
       "      <td>LA PLATA</td>\n",
       "      <td>NaN</td>\n",
       "      <td>NaN</td>\n",
       "      <td>NaN</td>\n",
       "      <td>NaN</td>\n",
       "      <td>NaN</td>\n",
       "      <td>NaN</td>\n",
       "      <td>NaN</td>\n",
       "      <td>NaN</td>\n",
       "      <td>NaN</td>\n",
       "      <td>NaN</td>\n",
       "    </tr>\n",
       "    <tr>\n",
       "      <th>182</th>\n",
       "      <td>EXPEDITIONARYBOCES</td>\n",
       "      <td>9130</td>\n",
       "      <td>DENVER</td>\n",
       "      <td>NaN</td>\n",
       "      <td>NaN</td>\n",
       "      <td>NaN</td>\n",
       "      <td>NaN</td>\n",
       "      <td>NaN</td>\n",
       "      <td>NaN</td>\n",
       "      <td>NaN</td>\n",
       "      <td>NaN</td>\n",
       "      <td>NaN</td>\n",
       "      <td>NaN</td>\n",
       "    </tr>\n",
       "  </tbody>\n",
       "</table>\n",
       "</div>"
      ],
      "text/plain": [
       "               district  code in_county  \\\n",
       "0            MAPLETON 1    10     ADAMS   \n",
       "1      ADAMSFIVESTAR 12    20     ADAMS   \n",
       "181        SANJUANBOCES  9050  LA PLATA   \n",
       "182  EXPEDITIONARYBOCES  9130    DENVER   \n",
       "\n",
       "                                            geo_border  \\\n",
       "0    MULTIPOLYGON (((-105.01581612299998 39.8144774...   \n",
       "1    MULTIPOLYGON (((-105.05310614499996 39.9302934...   \n",
       "181                                                NaN   \n",
       "182                                                NaN   \n",
       "\n",
       "                    geo_point    gid    lgid      id                 street  \\\n",
       "0    GEOMETRYCOLLECTION EMPTY  593.0  1900.0  2210.0  5910 East 80th Avenue   \n",
       "1    GEOMETRYCOLLECTION EMPTY  648.0  1901.0  2211.0    1500 E 128th Avenue   \n",
       "181                       NaN    NaN     NaN     NaN                    NaN   \n",
       "182                       NaN    NaN     NaN     NaN                    NaN   \n",
       "\n",
       "         city state    zip               url  \n",
       "0      Denver    CO  80229  www.mapleton.us/  \n",
       "1    Thornton    CO  80241   www.adams12.org  \n",
       "181       NaN   NaN    NaN               NaN  \n",
       "182       NaN   NaN    NaN               NaN  "
      ]
     },
     "metadata": {},
     "output_type": "display_data"
    }
   ],
   "source": [
    "district['geo_point'] = np.nan\n",
    "try:\n",
    "    district.loc[ ~ district.address.isna(), 'geo_point'] = (\n",
    "        gp.tools\n",
    "        .geocode(district.address, **api_kwargs)\n",
    "        ['geometry']\n",
    "        .astype(str)\n",
    "    )\n",
    "except Exception:\n",
    "    district['geo_point'] = np.nan\n",
    "\n",
    "district = (district\n",
    "    .drop_cols('address')\n",
    "    .move_col('geo_point', 4)\n",
    ")\n",
    "head(district, with_tail=True)"
   ]
  },
  {
   "cell_type": "code",
   "execution_count": 17,
   "metadata": {},
   "outputs": [
    {
     "data": {
      "text/plain": [
       "183"
      ]
     },
     "execution_count": 17,
     "metadata": {},
     "output_type": "execute_result"
    }
   ],
   "source": [
    "write_main(district, 'district')"
   ]
  }
 ],
 "metadata": {
  "kernelspec": {
   "display_name": "Python 3.10.8 64-bit",
   "language": "python",
   "name": "python3"
  },
  "language_info": {
   "codemirror_mode": {
    "name": "ipython",
    "version": 3
   },
   "file_extension": ".py",
   "mimetype": "text/x-python",
   "name": "python",
   "nbconvert_exporter": "python",
   "pygments_lexer": "ipython3",
   "version": "3.10.8"
  },
  "orig_nbformat": 4,
  "vscode": {
   "interpreter": {
    "hash": "908abd7e78fd4d71ba1be92795635fd82be5080a16e3cc7c1eae8bbfec458fa8"
   }
  }
 },
 "nbformat": 4,
 "nbformat_minor": 2
}
